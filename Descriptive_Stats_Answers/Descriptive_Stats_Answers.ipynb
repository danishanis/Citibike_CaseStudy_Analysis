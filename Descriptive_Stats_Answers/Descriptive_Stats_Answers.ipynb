{
  "nbformat": 4,
  "nbformat_minor": 0,
  "metadata": {
    "colab": {
      "name": "IBM_CaseStudy_StatsAnswers.ipynb",
      "provenance": [],
      "collapsed_sections": [],
      "toc_visible": true
    },
    "kernelspec": {
      "name": "python3",
      "display_name": "Python 3"
    }
  },
  "cells": [
    {
      "cell_type": "markdown",
      "metadata": {
        "id": "Ha7kqV9gra8H",
        "colab_type": "text"
      },
      "source": [
        "##**Importing Libraries**"
      ]
    },
    {
      "cell_type": "code",
      "metadata": {
        "id": "fRkgKcuErApJ",
        "colab_type": "code",
        "colab": {
          "base_uri": "https://localhost:8080/",
          "height": 228
        },
        "outputId": "2935d034-78a6-47d7-ce59-d28f92b14652"
      },
      "source": [
        "!pip install seaborn"
      ],
      "execution_count": null,
      "outputs": [
        {
          "output_type": "stream",
          "text": [
            "Requirement already satisfied: seaborn in /usr/local/lib/python3.6/dist-packages (0.10.1)\n",
            "Requirement already satisfied: pandas>=0.22.0 in /usr/local/lib/python3.6/dist-packages (from seaborn) (1.0.5)\n",
            "Requirement already satisfied: matplotlib>=2.1.2 in /usr/local/lib/python3.6/dist-packages (from seaborn) (3.2.2)\n",
            "Requirement already satisfied: numpy>=1.13.3 in /usr/local/lib/python3.6/dist-packages (from seaborn) (1.18.5)\n",
            "Requirement already satisfied: scipy>=1.0.1 in /usr/local/lib/python3.6/dist-packages (from seaborn) (1.4.1)\n",
            "Requirement already satisfied: python-dateutil>=2.6.1 in /usr/local/lib/python3.6/dist-packages (from pandas>=0.22.0->seaborn) (2.8.1)\n",
            "Requirement already satisfied: pytz>=2017.2 in /usr/local/lib/python3.6/dist-packages (from pandas>=0.22.0->seaborn) (2018.9)\n",
            "Requirement already satisfied: kiwisolver>=1.0.1 in /usr/local/lib/python3.6/dist-packages (from matplotlib>=2.1.2->seaborn) (1.2.0)\n",
            "Requirement already satisfied: cycler>=0.10 in /usr/local/lib/python3.6/dist-packages (from matplotlib>=2.1.2->seaborn) (0.10.0)\n",
            "Requirement already satisfied: pyparsing!=2.0.4,!=2.1.2,!=2.1.6,>=2.0.1 in /usr/local/lib/python3.6/dist-packages (from matplotlib>=2.1.2->seaborn) (2.4.7)\n",
            "Requirement already satisfied: six>=1.5 in /usr/local/lib/python3.6/dist-packages (from python-dateutil>=2.6.1->pandas>=0.22.0->seaborn) (1.15.0)\n"
          ],
          "name": "stdout"
        }
      ]
    },
    {
      "cell_type": "code",
      "metadata": {
        "id": "jHPVFHBLq4Kv",
        "colab_type": "code",
        "colab": {
          "base_uri": "https://localhost:8080/",
          "height": 72
        },
        "outputId": "e4b3d4aa-57f5-4e04-e49c-6213eac13ed6"
      },
      "source": [
        "import numpy as np\n",
        "import pandas as pd\n",
        "import matplotlib.pyplot as plt\n",
        "from matplotlib import rcParams\n",
        "import matplotlib.font_manager as font_manager\n",
        "import seaborn as sns\n",
        "import math"
      ],
      "execution_count": null,
      "outputs": [
        {
          "output_type": "stream",
          "text": [
            "/usr/local/lib/python3.6/dist-packages/statsmodels/tools/_testing.py:19: FutureWarning: pandas.util.testing is deprecated. Use the functions in the public API at pandas.testing instead.\n",
            "  import pandas.util.testing as tm\n"
          ],
          "name": "stderr"
        }
      ]
    },
    {
      "cell_type": "markdown",
      "metadata": {
        "id": "Zg92bGhMrglm",
        "colab_type": "text"
      },
      "source": [
        "##**Loading Dataset**"
      ]
    },
    {
      "cell_type": "markdown",
      "metadata": {
        "id": "qHA9Blc-t0XR",
        "colab_type": "text"
      },
      "source": [
        "The data description is provided as follows - \n",
        "\n",
        "\n",
        "*   Trip Duration (seconds)\n",
        "*   Start Time and Date\n",
        "*   Stop Time and Date\n",
        "*   Start Station Name\n",
        "*   End Station Name\n",
        "*   Station ID\n",
        "*   Station Lat/Long\n",
        "*   Bike ID\n",
        "*   User Type (Customer = 24-hour pass or 3-day pass user; Subscriber = Annual Member)\n",
        "*   Gender (Zero=unknown; 1=male; 2=female)\n",
        "*   Year of Birth\n",
        "\n"
      ]
    },
    {
      "cell_type": "code",
      "metadata": {
        "id": "x1ssMS8FrGhA",
        "colab_type": "code",
        "colab": {
          "base_uri": "https://localhost:8080/",
          "height": 417
        },
        "outputId": "0e3b7e4d-8596-414e-8929-712ca5a93ec5"
      },
      "source": [
        "#downloaded from - https://s3.amazonaws.com/tripdata/index.html\n",
        "df = pd.read_csv('201701-citibike-tripdata.csv')\n",
        "df.head()"
      ],
      "execution_count": null,
      "outputs": [
        {
          "output_type": "execute_result",
          "data": {
            "text/html": [
              "<div>\n",
              "<style scoped>\n",
              "    .dataframe tbody tr th:only-of-type {\n",
              "        vertical-align: middle;\n",
              "    }\n",
              "\n",
              "    .dataframe tbody tr th {\n",
              "        vertical-align: top;\n",
              "    }\n",
              "\n",
              "    .dataframe thead th {\n",
              "        text-align: right;\n",
              "    }\n",
              "</style>\n",
              "<table border=\"1\" class=\"dataframe\">\n",
              "  <thead>\n",
              "    <tr style=\"text-align: right;\">\n",
              "      <th></th>\n",
              "      <th>Trip Duration</th>\n",
              "      <th>Start Time</th>\n",
              "      <th>Stop Time</th>\n",
              "      <th>Start Station ID</th>\n",
              "      <th>Start Station Name</th>\n",
              "      <th>Start Station Latitude</th>\n",
              "      <th>Start Station Longitude</th>\n",
              "      <th>End Station ID</th>\n",
              "      <th>End Station Name</th>\n",
              "      <th>End Station Latitude</th>\n",
              "      <th>End Station Longitude</th>\n",
              "      <th>Bike ID</th>\n",
              "      <th>User Type</th>\n",
              "      <th>Birth Year</th>\n",
              "      <th>Gender</th>\n",
              "    </tr>\n",
              "  </thead>\n",
              "  <tbody>\n",
              "    <tr>\n",
              "      <th>0</th>\n",
              "      <td>680</td>\n",
              "      <td>2017-01-01 00:00:21</td>\n",
              "      <td>2017-01-01 00:11:41</td>\n",
              "      <td>3226.0</td>\n",
              "      <td>W 82 St &amp; Central Park West</td>\n",
              "      <td>40.782750</td>\n",
              "      <td>-73.971370</td>\n",
              "      <td>3165.0</td>\n",
              "      <td>Central Park West &amp; W 72 St</td>\n",
              "      <td>40.775794</td>\n",
              "      <td>-73.976206</td>\n",
              "      <td>25542.0</td>\n",
              "      <td>Subscriber</td>\n",
              "      <td>1965.0</td>\n",
              "      <td>2.0</td>\n",
              "    </tr>\n",
              "    <tr>\n",
              "      <th>1</th>\n",
              "      <td>1282</td>\n",
              "      <td>2017-01-01 00:00:45</td>\n",
              "      <td>2017-01-01 00:22:08</td>\n",
              "      <td>3263.0</td>\n",
              "      <td>Cooper Square &amp; E 7 St</td>\n",
              "      <td>40.729236</td>\n",
              "      <td>-73.990868</td>\n",
              "      <td>498.0</td>\n",
              "      <td>Broadway &amp; W 32 St</td>\n",
              "      <td>40.748549</td>\n",
              "      <td>-73.988084</td>\n",
              "      <td>21136.0</td>\n",
              "      <td>Subscriber</td>\n",
              "      <td>1987.0</td>\n",
              "      <td>2.0</td>\n",
              "    </tr>\n",
              "    <tr>\n",
              "      <th>2</th>\n",
              "      <td>648</td>\n",
              "      <td>2017-01-01 00:00:57</td>\n",
              "      <td>2017-01-01 00:11:46</td>\n",
              "      <td>3143.0</td>\n",
              "      <td>5 Ave &amp; E 78 St</td>\n",
              "      <td>40.776829</td>\n",
              "      <td>-73.963888</td>\n",
              "      <td>3152.0</td>\n",
              "      <td>3 Ave &amp; E 71 St</td>\n",
              "      <td>40.768737</td>\n",
              "      <td>-73.961199</td>\n",
              "      <td>18147.0</td>\n",
              "      <td>Customer</td>\n",
              "      <td>NaN</td>\n",
              "      <td>0.0</td>\n",
              "    </tr>\n",
              "    <tr>\n",
              "      <th>3</th>\n",
              "      <td>631</td>\n",
              "      <td>2017-01-01 00:01:10</td>\n",
              "      <td>2017-01-01 00:11:42</td>\n",
              "      <td>3143.0</td>\n",
              "      <td>5 Ave &amp; E 78 St</td>\n",
              "      <td>40.776829</td>\n",
              "      <td>-73.963888</td>\n",
              "      <td>3152.0</td>\n",
              "      <td>3 Ave &amp; E 71 St</td>\n",
              "      <td>40.768737</td>\n",
              "      <td>-73.961199</td>\n",
              "      <td>21211.0</td>\n",
              "      <td>Customer</td>\n",
              "      <td>NaN</td>\n",
              "      <td>0.0</td>\n",
              "    </tr>\n",
              "    <tr>\n",
              "      <th>4</th>\n",
              "      <td>621</td>\n",
              "      <td>2017-01-01 00:01:25</td>\n",
              "      <td>2017-01-01 00:11:47</td>\n",
              "      <td>3143.0</td>\n",
              "      <td>5 Ave &amp; E 78 St</td>\n",
              "      <td>40.776829</td>\n",
              "      <td>-73.963888</td>\n",
              "      <td>3152.0</td>\n",
              "      <td>3 Ave &amp; E 71 St</td>\n",
              "      <td>40.768737</td>\n",
              "      <td>-73.961199</td>\n",
              "      <td>26819.0</td>\n",
              "      <td>Customer</td>\n",
              "      <td>NaN</td>\n",
              "      <td>0.0</td>\n",
              "    </tr>\n",
              "  </tbody>\n",
              "</table>\n",
              "</div>"
            ],
            "text/plain": [
              "   Trip Duration           Start Time  ... Birth Year  Gender\n",
              "0            680  2017-01-01 00:00:21  ...     1965.0     2.0\n",
              "1           1282  2017-01-01 00:00:45  ...     1987.0     2.0\n",
              "2            648  2017-01-01 00:00:57  ...        NaN     0.0\n",
              "3            631  2017-01-01 00:01:10  ...        NaN     0.0\n",
              "4            621  2017-01-01 00:01:25  ...        NaN     0.0\n",
              "\n",
              "[5 rows x 15 columns]"
            ]
          },
          "metadata": {
            "tags": []
          },
          "execution_count": 4
        }
      ]
    },
    {
      "cell_type": "code",
      "metadata": {
        "id": "SF1pUEA8ULZI",
        "colab_type": "code",
        "colab": {
          "base_uri": "https://localhost:8080/",
          "height": 295
        },
        "outputId": "b91f0c1f-4127-4b50-8e4c-dfa9234fa8fa"
      },
      "source": [
        "df.dtypes"
      ],
      "execution_count": null,
      "outputs": [
        {
          "output_type": "execute_result",
          "data": {
            "text/plain": [
              "Trip Duration                int64\n",
              "Start Time                  object\n",
              "Stop Time                   object\n",
              "Start Station ID           float64\n",
              "Start Station Name          object\n",
              "Start Station Latitude     float64\n",
              "Start Station Longitude    float64\n",
              "End Station ID             float64\n",
              "End Station Name            object\n",
              "End Station Latitude       float64\n",
              "End Station Longitude      float64\n",
              "Bike ID                    float64\n",
              "User Type                   object\n",
              "Birth Year                 float64\n",
              "Gender                     float64\n",
              "dtype: object"
            ]
          },
          "metadata": {
            "tags": []
          },
          "execution_count": 5
        }
      ]
    },
    {
      "cell_type": "markdown",
      "metadata": {
        "id": "Z6o7-ppNvSmH",
        "colab_type": "text"
      },
      "source": [
        "##**Data Visualization & EDA**"
      ]
    },
    {
      "cell_type": "code",
      "metadata": {
        "id": "-DRlTtnZs9aa",
        "colab_type": "code",
        "colab": {
          "base_uri": "https://localhost:8080/",
          "height": 34
        },
        "outputId": "79fe30f7-1530-479b-d80a-d52e8b6017c2"
      },
      "source": [
        "df.shape"
      ],
      "execution_count": null,
      "outputs": [
        {
          "output_type": "execute_result",
          "data": {
            "text/plain": [
              "(454787, 15)"
            ]
          },
          "metadata": {
            "tags": []
          },
          "execution_count": 6
        }
      ]
    },
    {
      "cell_type": "markdown",
      "metadata": {
        "id": "JzpY3Vh-1CKh",
        "colab_type": "text"
      },
      "source": [
        "Checking the variables in the dataset that have missing values and also the number of missing values"
      ]
    },
    {
      "cell_type": "code",
      "metadata": {
        "id": "h4vl8EY_vXdW",
        "colab_type": "code",
        "colab": {
          "base_uri": "https://localhost:8080/",
          "height": 295
        },
        "outputId": "8e81f0d6-e6e9-4806-d642-fe9fe39c06e2"
      },
      "source": [
        "df.isnull().sum()"
      ],
      "execution_count": null,
      "outputs": [
        {
          "output_type": "execute_result",
          "data": {
            "text/plain": [
              "Trip Duration                  0\n",
              "Start Time                     0\n",
              "Stop Time                      1\n",
              "Start Station ID               1\n",
              "Start Station Name             1\n",
              "Start Station Latitude         1\n",
              "Start Station Longitude        1\n",
              "End Station ID                 1\n",
              "End Station Name               1\n",
              "End Station Latitude           1\n",
              "End Station Longitude          1\n",
              "Bike ID                        1\n",
              "User Type                   2054\n",
              "Birth Year                 18185\n",
              "Gender                         1\n",
              "dtype: int64"
            ]
          },
          "metadata": {
            "tags": []
          },
          "execution_count": 7
        }
      ]
    },
    {
      "cell_type": "markdown",
      "metadata": {
        "id": "lTaAeRgc1fEp",
        "colab_type": "text"
      },
      "source": [
        "Therefore, User Type and Birth Year are the only ones with missing values"
      ]
    },
    {
      "cell_type": "markdown",
      "metadata": {
        "id": "sBl7iBYf0krN",
        "colab_type": "text"
      },
      "source": [
        "####**EDA for User Type missing values**"
      ]
    },
    {
      "cell_type": "code",
      "metadata": {
        "id": "YrG8PH9gviwe",
        "colab_type": "code",
        "colab": {
          "base_uri": "https://localhost:8080/",
          "height": 69
        },
        "outputId": "793743a7-3cd3-4ca0-a5ae-1a85f5f58485"
      },
      "source": [
        "#Counting the number of categories for User Types\n",
        "df[\"User Type\"].value_counts()"
      ],
      "execution_count": null,
      "outputs": [
        {
          "output_type": "execute_result",
          "data": {
            "text/plain": [
              "Subscriber    438348\n",
              "Customer       14385\n",
              "Name: User Type, dtype: int64"
            ]
          },
          "metadata": {
            "tags": []
          },
          "execution_count": 8
        }
      ]
    },
    {
      "cell_type": "code",
      "metadata": {
        "id": "bdOx1kpY4HCn",
        "colab_type": "code",
        "colab": {
          "base_uri": "https://localhost:8080/",
          "height": 69
        },
        "outputId": "bf58a06e-6f31-402b-e83a-e25a4d592a30"
      },
      "source": [
        "#There may be a typo in printing 'Subscribe'. It probably is 'Subscriber'\n",
        "#There is ONE value in the column 'Subscribe'. This one value can be renamed\n",
        "df[\"User Type\"] = df[\"User Type\"].replace({'Subscribe':'Subscriber'})\n",
        "df[\"User Type\"].value_counts()"
      ],
      "execution_count": null,
      "outputs": [
        {
          "output_type": "execute_result",
          "data": {
            "text/plain": [
              "Subscriber    438348\n",
              "Customer       14385\n",
              "Name: User Type, dtype: int64"
            ]
          },
          "metadata": {
            "tags": []
          },
          "execution_count": 9
        }
      ]
    },
    {
      "cell_type": "code",
      "metadata": {
        "id": "wvEn-6kC0trN",
        "colab_type": "code",
        "colab": {
          "base_uri": "https://localhost:8080/",
          "height": 34
        },
        "outputId": "0ea13853-5286-4942-ee6b-0e51b1a287fc"
      },
      "source": [
        "df[\"User Type\"].isnull().sum()"
      ],
      "execution_count": null,
      "outputs": [
        {
          "output_type": "execute_result",
          "data": {
            "text/plain": [
              "2054"
            ]
          },
          "metadata": {
            "tags": []
          },
          "execution_count": 10
        }
      ]
    },
    {
      "cell_type": "code",
      "metadata": {
        "id": "9c6cipht0tpF",
        "colab_type": "code",
        "colab": {
          "base_uri": "https://localhost:8080/",
          "height": 34
        },
        "outputId": "ae6ec225-9c78-4666-ae14-b3546eb6572f"
      },
      "source": [
        "#missing value % in User Type\n",
        "((df[\"User Type\"].isnull().sum()) / (len(df[\"User Type\"])))*100"
      ],
      "execution_count": null,
      "outputs": [
        {
          "output_type": "execute_result",
          "data": {
            "text/plain": [
              "0.4516399985047946"
            ]
          },
          "metadata": {
            "tags": []
          },
          "execution_count": 11
        }
      ]
    },
    {
      "cell_type": "markdown",
      "metadata": {
        "id": "jNYor0uJ2O-7",
        "colab_type": "text"
      },
      "source": [
        "The Missing values in User type constitue of about 0.44% of the entire column values. **There is no harm in dropping rows with null User Type values**"
      ]
    },
    {
      "cell_type": "code",
      "metadata": {
        "id": "L3HlbTgqz9oF",
        "colab_type": "code",
        "colab": {
          "base_uri": "https://localhost:8080/",
          "height": 34
        },
        "outputId": "2d0b923d-006e-405d-e74a-d36da7ede4c3"
      },
      "source": [
        "df.dropna(subset=['User Type'], inplace = True)\n",
        "df.shape"
      ],
      "execution_count": null,
      "outputs": [
        {
          "output_type": "execute_result",
          "data": {
            "text/plain": [
              "(452733, 15)"
            ]
          },
          "metadata": {
            "tags": []
          },
          "execution_count": 12
        }
      ]
    },
    {
      "cell_type": "markdown",
      "metadata": {
        "id": "qo3C80wYPish",
        "colab_type": "text"
      },
      "source": [
        "####**EDA for Birth Year**"
      ]
    },
    {
      "cell_type": "code",
      "metadata": {
        "id": "_Fx-j686I0tm",
        "colab_type": "code",
        "colab": {
          "base_uri": "https://localhost:8080/",
          "height": 34
        },
        "outputId": "aded32e2-8df8-4d81-d75a-36d74d626a2b"
      },
      "source": [
        "(df[\"Birth Year\"].isnull().sum() / len(df[\"Birth Year\"]))*100"
      ],
      "execution_count": null,
      "outputs": [
        {
          "output_type": "execute_result",
          "data": {
            "text/plain": [
              "4.016274492913041"
            ]
          },
          "metadata": {
            "tags": []
          },
          "execution_count": 13
        }
      ]
    },
    {
      "cell_type": "markdown",
      "metadata": {
        "id": "TTEk_m0IJBmM",
        "colab_type": "text"
      },
      "source": [
        "Nearly 4% of the total Birth Year values in the dataset are Null. We can decide to either remove these rows or replace the missing values with something else."
      ]
    },
    {
      "cell_type": "code",
      "metadata": {
        "id": "kHeoolSQIl93",
        "colab_type": "code",
        "colab": {
          "base_uri": "https://localhost:8080/",
          "height": 173
        },
        "outputId": "157ec516-6a05-4dd4-f4ca-02138442bd1a"
      },
      "source": [
        "print('Unique Birth Years in the Dataset: \\n',(df['Birth Year'].unique()),'\\n')"
      ],
      "execution_count": null,
      "outputs": [
        {
          "output_type": "stream",
          "text": [
            "Unique Birth Years in the Dataset: \n",
            " [1965. 1987.   nan 2000. 1973. 1977. 1989. 1980. 1993. 1992. 1996. 1964.\n",
            " 1970. 1994. 1969. 1984. 1974. 1991. 1968. 1986. 1943. 1990. 1985. 1995.\n",
            " 1963. 1979. 1983. 1975. 1988. 1981. 1997. 1954. 1966. 1978. 1982. 1976.\n",
            " 1953. 1942. 1959. 1971. 1946. 1948. 1962. 1999. 1967. 1960. 1961. 1951.\n",
            " 1949. 1886. 1957. 1956. 1972. 1955. 1998. 1952. 1958. 1945. 1950. 1941.\n",
            " 1940. 1934. 1947. 1944. 1938. 1926. 1885. 1936. 1932. 1939. 1923. 1900.\n",
            " 1899. 1935. 1912. 1937. 1901. 1921. 1893. 1917. 1910. 1918. 1931. 1895.] \n",
            "\n"
          ],
          "name": "stdout"
        }
      ]
    },
    {
      "cell_type": "markdown",
      "metadata": {
        "id": "V04qzMX2J7T-",
        "colab_type": "text"
      },
      "source": [
        "Besides **NaN**, the dataset contains some unrealistic age values, including some even from the **19th Century**! These can safely be removed.\n",
        "\n",
        "A Box plot can visualize the outliers/unrealistic values better - "
      ]
    },
    {
      "cell_type": "code",
      "metadata": {
        "id": "Cxia94n_IxPm",
        "colab_type": "code",
        "colab": {
          "base_uri": "https://localhost:8080/",
          "height": 592
        },
        "outputId": "8c2b8702-d4b4-4d94-ec42-cb17339b78d3"
      },
      "source": [
        "boxplot = df.boxplot(column =['Birth Year'], figsize=(5,10))"
      ],
      "execution_count": null,
      "outputs": [
        {
          "output_type": "display_data",
          "data": {
            "image/png": "[encoded data removed]",
            "text/plain": [
              "<Figure size 360x720 with 1 Axes>"
            ]
          },
          "metadata": {
            "tags": [],
            "needs_background": "light"
          }
        }
      ]
    },
    {
      "cell_type": "code",
      "metadata": {
        "id": "Zz2ihuN-KdUt",
        "colab_type": "code",
        "colab": {
          "base_uri": "https://localhost:8080/",
          "height": 469
        },
        "outputId": "7ad79b0d-4442-4d4c-8cbb-30fa07106d1a"
      },
      "source": [
        "#Identifying People born before 1940 (80 Years and Older)\n",
        "#We would like to keep only people ages 80 and below\n",
        "df = df[(df['Birth Year'] >= 1940.0)]\n",
        "df.head()"
      ],
      "execution_count": null,
      "outputs": [
        {
          "output_type": "execute_result",
          "data": {
            "text/html": [
              "<div>\n",
              "<style scoped>\n",
              "    .dataframe tbody tr th:only-of-type {\n",
              "        vertical-align: middle;\n",
              "    }\n",
              "\n",
              "    .dataframe tbody tr th {\n",
              "        vertical-align: top;\n",
              "    }\n",
              "\n",
              "    .dataframe thead th {\n",
              "        text-align: right;\n",
              "    }\n",
              "</style>\n",
              "<table border=\"1\" class=\"dataframe\">\n",
              "  <thead>\n",
              "    <tr style=\"text-align: right;\">\n",
              "      <th></th>\n",
              "      <th>Trip Duration</th>\n",
              "      <th>Start Time</th>\n",
              "      <th>Stop Time</th>\n",
              "      <th>Start Station ID</th>\n",
              "      <th>Start Station Name</th>\n",
              "      <th>Start Station Latitude</th>\n",
              "      <th>Start Station Longitude</th>\n",
              "      <th>End Station ID</th>\n",
              "      <th>End Station Name</th>\n",
              "      <th>End Station Latitude</th>\n",
              "      <th>End Station Longitude</th>\n",
              "      <th>Bike ID</th>\n",
              "      <th>User Type</th>\n",
              "      <th>Birth Year</th>\n",
              "      <th>Gender</th>\n",
              "    </tr>\n",
              "  </thead>\n",
              "  <tbody>\n",
              "    <tr>\n",
              "      <th>0</th>\n",
              "      <td>680</td>\n",
              "      <td>2017-01-01 00:00:21</td>\n",
              "      <td>2017-01-01 00:11:41</td>\n",
              "      <td>3226.0</td>\n",
              "      <td>W 82 St &amp; Central Park West</td>\n",
              "      <td>40.782750</td>\n",
              "      <td>-73.971370</td>\n",
              "      <td>3165.0</td>\n",
              "      <td>Central Park West &amp; W 72 St</td>\n",
              "      <td>40.775794</td>\n",
              "      <td>-73.976206</td>\n",
              "      <td>25542.0</td>\n",
              "      <td>Subscriber</td>\n",
              "      <td>1965.0</td>\n",
              "      <td>2.0</td>\n",
              "    </tr>\n",
              "    <tr>\n",
              "      <th>1</th>\n",
              "      <td>1282</td>\n",
              "      <td>2017-01-01 00:00:45</td>\n",
              "      <td>2017-01-01 00:22:08</td>\n",
              "      <td>3263.0</td>\n",
              "      <td>Cooper Square &amp; E 7 St</td>\n",
              "      <td>40.729236</td>\n",
              "      <td>-73.990868</td>\n",
              "      <td>498.0</td>\n",
              "      <td>Broadway &amp; W 32 St</td>\n",
              "      <td>40.748549</td>\n",
              "      <td>-73.988084</td>\n",
              "      <td>21136.0</td>\n",
              "      <td>Subscriber</td>\n",
              "      <td>1987.0</td>\n",
              "      <td>2.0</td>\n",
              "    </tr>\n",
              "    <tr>\n",
              "      <th>5</th>\n",
              "      <td>666</td>\n",
              "      <td>2017-01-01 00:01:51</td>\n",
              "      <td>2017-01-01 00:12:57</td>\n",
              "      <td>3163.0</td>\n",
              "      <td>Central Park West &amp; W 68 St</td>\n",
              "      <td>40.773407</td>\n",
              "      <td>-73.977825</td>\n",
              "      <td>3163.0</td>\n",
              "      <td>Central Park West &amp; W 68 St</td>\n",
              "      <td>40.773407</td>\n",
              "      <td>-73.977825</td>\n",
              "      <td>16050.0</td>\n",
              "      <td>Subscriber</td>\n",
              "      <td>2000.0</td>\n",
              "      <td>1.0</td>\n",
              "    </tr>\n",
              "    <tr>\n",
              "      <th>6</th>\n",
              "      <td>559</td>\n",
              "      <td>2017-01-01 00:05:00</td>\n",
              "      <td>2017-01-01 00:14:20</td>\n",
              "      <td>499.0</td>\n",
              "      <td>Broadway &amp; W 60 St</td>\n",
              "      <td>40.769155</td>\n",
              "      <td>-73.981918</td>\n",
              "      <td>479.0</td>\n",
              "      <td>9 Ave &amp; W 45 St</td>\n",
              "      <td>40.760193</td>\n",
              "      <td>-73.991255</td>\n",
              "      <td>27294.0</td>\n",
              "      <td>Subscriber</td>\n",
              "      <td>1973.0</td>\n",
              "      <td>1.0</td>\n",
              "    </tr>\n",
              "    <tr>\n",
              "      <th>7</th>\n",
              "      <td>826</td>\n",
              "      <td>2017-01-01 00:05:37</td>\n",
              "      <td>2017-01-01 00:19:24</td>\n",
              "      <td>362.0</td>\n",
              "      <td>Broadway &amp; W 37 St</td>\n",
              "      <td>40.751726</td>\n",
              "      <td>-73.987535</td>\n",
              "      <td>445.0</td>\n",
              "      <td>E 10 St &amp; Avenue A</td>\n",
              "      <td>40.727408</td>\n",
              "      <td>-73.981420</td>\n",
              "      <td>23288.0</td>\n",
              "      <td>Subscriber</td>\n",
              "      <td>1977.0</td>\n",
              "      <td>2.0</td>\n",
              "    </tr>\n",
              "  </tbody>\n",
              "</table>\n",
              "</div>"
            ],
            "text/plain": [
              "   Trip Duration           Start Time  ... Birth Year  Gender\n",
              "0            680  2017-01-01 00:00:21  ...     1965.0     2.0\n",
              "1           1282  2017-01-01 00:00:45  ...     1987.0     2.0\n",
              "5            666  2017-01-01 00:01:51  ...     2000.0     1.0\n",
              "6            559  2017-01-01 00:05:00  ...     1973.0     1.0\n",
              "7            826  2017-01-01 00:05:37  ...     1977.0     2.0\n",
              "\n",
              "[5 rows x 15 columns]"
            ]
          },
          "metadata": {
            "tags": []
          },
          "execution_count": 16
        }
      ]
    },
    {
      "cell_type": "code",
      "metadata": {
        "id": "SIjBFQ6q2W5v",
        "colab_type": "code",
        "colab": {
          "base_uri": "https://localhost:8080/",
          "height": 34
        },
        "outputId": "4dab64a1-4cc1-4407-ef63-35e1bef6082d"
      },
      "source": [
        "#Having removed 80 or older people from the dataset, we can re-check the null values\n",
        "df['Birth Year'].isnull().sum()"
      ],
      "execution_count": null,
      "outputs": [
        {
          "output_type": "execute_result",
          "data": {
            "text/plain": [
              "0"
            ]
          },
          "metadata": {
            "tags": []
          },
          "execution_count": 17
        }
      ]
    },
    {
      "cell_type": "markdown",
      "metadata": {
        "id": "iy9g4bY4QRv0",
        "colab_type": "text"
      },
      "source": [
        "The above Dataframe has only people with ***ages 90 and below***\n",
        "\n",
        "We can safely conclude that all the unrealistic birth years in our dataset were removed by placing a condition of taking data of only those who are 90 or younger (because we would like to believe that it is unlikely for senior citizens aged 90 or above to cycle in a busy city like NYC!)"
      ]
    },
    {
      "cell_type": "markdown",
      "metadata": {
        "id": "9aRdVaLRuR8J",
        "colab_type": "text"
      },
      "source": [
        "##**Q1) Top 5 Stations with the most starts**\n",
        "\n",
        "*showing # of starts*"
      ]
    },
    {
      "cell_type": "markdown",
      "metadata": {
        "id": "-eSDDifkblI8",
        "colab_type": "text"
      },
      "source": [
        "####**EDA for Trip Durations per Stations**"
      ]
    },
    {
      "cell_type": "markdown",
      "metadata": {
        "id": "6h0W8RHoQnY_",
        "colab_type": "text"
      },
      "source": [
        "There are some trips with total duration of less than **90 seconds (1.5 minutes)**. In ideal world, we must not factor such trips as it is very likely that the bikes may have been broken and as soon as the use found out, they docked it and picked up another bike within a minute or two.\n",
        "\n",
        "**We shall check this Hypothesis and if there are considerable number of such trips, we can consider not including those**"
      ]
    },
    {
      "cell_type": "code",
      "metadata": {
        "id": "-JtmkX5cPSCF",
        "colab_type": "code",
        "colab": {
          "base_uri": "https://localhost:8080/",
          "height": 34
        },
        "outputId": "6c00ee70-3312-4036-b6d9-58aa706a61c7"
      },
      "source": [
        "#Testing Hypothesis\n",
        "df_bikenum = pd.DataFrame()\n",
        "df_bikenum['First Bike'] = df[df['Trip Duration'] < 90]['Start Station Name']\n",
        "df_bikenum['Second Bike'] = df[df['Trip Duration'] < 90]['End Station Name']\n",
        "df_bikenum.shape"
      ],
      "execution_count": null,
      "outputs": [
        {
          "output_type": "execute_result",
          "data": {
            "text/plain": [
              "(1998, 2)"
            ]
          },
          "metadata": {
            "tags": []
          },
          "execution_count": 18
        }
      ]
    },
    {
      "cell_type": "code",
      "metadata": {
        "id": "HLu7UABoSYAn",
        "colab_type": "code",
        "colab": {
          "base_uri": "https://localhost:8080/",
          "height": 677
        },
        "outputId": "112a0bac-06d4-4ae6-d693-edb783a34bb9"
      },
      "source": [
        "df_bikenum.head(20)"
      ],
      "execution_count": null,
      "outputs": [
        {
          "output_type": "execute_result",
          "data": {
            "text/html": [
              "<div>\n",
              "<style scoped>\n",
              "    .dataframe tbody tr th:only-of-type {\n",
              "        vertical-align: middle;\n",
              "    }\n",
              "\n",
              "    .dataframe tbody tr th {\n",
              "        vertical-align: top;\n",
              "    }\n",
              "\n",
              "    .dataframe thead th {\n",
              "        text-align: right;\n",
              "    }\n",
              "</style>\n",
              "<table border=\"1\" class=\"dataframe\">\n",
              "  <thead>\n",
              "    <tr style=\"text-align: right;\">\n",
              "      <th></th>\n",
              "      <th>First Bike</th>\n",
              "      <th>Second Bike</th>\n",
              "    </tr>\n",
              "  </thead>\n",
              "  <tbody>\n",
              "    <tr>\n",
              "      <th>59</th>\n",
              "      <td>5 Ave &amp; E 73 St</td>\n",
              "      <td>5 Ave &amp; E 73 St</td>\n",
              "    </tr>\n",
              "    <tr>\n",
              "      <th>296</th>\n",
              "      <td>St Marks Pl &amp; 2 Ave</td>\n",
              "      <td>St Marks Pl &amp; 1 Ave</td>\n",
              "    </tr>\n",
              "    <tr>\n",
              "      <th>338</th>\n",
              "      <td>Canal St &amp; Rutgers St</td>\n",
              "      <td>Pike St &amp; E Broadway</td>\n",
              "    </tr>\n",
              "    <tr>\n",
              "      <th>857</th>\n",
              "      <td>Monroe St &amp; Bedford Ave</td>\n",
              "      <td>Monroe St &amp; Bedford Ave</td>\n",
              "    </tr>\n",
              "    <tr>\n",
              "      <th>1049</th>\n",
              "      <td>Berry St &amp; N 8 St</td>\n",
              "      <td>N 11 St &amp; Wythe Ave</td>\n",
              "    </tr>\n",
              "    <tr>\n",
              "      <th>1178</th>\n",
              "      <td>Carroll St &amp; 5 Ave</td>\n",
              "      <td>5 Ave &amp; 3 St</td>\n",
              "    </tr>\n",
              "    <tr>\n",
              "      <th>1207</th>\n",
              "      <td>Mercer St &amp; Bleecker St</td>\n",
              "      <td>Mercer St &amp; Bleecker St</td>\n",
              "    </tr>\n",
              "    <tr>\n",
              "      <th>1210</th>\n",
              "      <td>Howard St &amp; Centre St</td>\n",
              "      <td>Howard St &amp; Centre St</td>\n",
              "    </tr>\n",
              "    <tr>\n",
              "      <th>1219</th>\n",
              "      <td>W 17 St &amp; 8 Ave</td>\n",
              "      <td>9 Ave &amp; W 18 St</td>\n",
              "    </tr>\n",
              "    <tr>\n",
              "      <th>1264</th>\n",
              "      <td>Pike St &amp; E Broadway</td>\n",
              "      <td>Division St &amp; Bowery</td>\n",
              "    </tr>\n",
              "    <tr>\n",
              "      <th>1749</th>\n",
              "      <td>MacDougal St &amp; Washington Sq</td>\n",
              "      <td>Sullivan St &amp; Washington Sq</td>\n",
              "    </tr>\n",
              "    <tr>\n",
              "      <th>1991</th>\n",
              "      <td>9 Ave &amp; W 45 St</td>\n",
              "      <td>9 Ave &amp; W 45 St</td>\n",
              "    </tr>\n",
              "    <tr>\n",
              "      <th>2089</th>\n",
              "      <td>W 74 St &amp; Columbus Ave</td>\n",
              "      <td>W 76 St &amp; Columbus Ave</td>\n",
              "    </tr>\n",
              "    <tr>\n",
              "      <th>2160</th>\n",
              "      <td>W 76 St &amp; Columbus Ave</td>\n",
              "      <td>W 74 St &amp; Columbus Ave</td>\n",
              "    </tr>\n",
              "    <tr>\n",
              "      <th>2214</th>\n",
              "      <td>2 Ave  &amp; E 104 St</td>\n",
              "      <td>E 103 St &amp; Lexington Ave</td>\n",
              "    </tr>\n",
              "    <tr>\n",
              "      <th>2376</th>\n",
              "      <td>Columbus Ave &amp; W 72 St</td>\n",
              "      <td>Amsterdam Ave &amp; W 73 St</td>\n",
              "    </tr>\n",
              "    <tr>\n",
              "      <th>2551</th>\n",
              "      <td>W 13 St &amp; 5 Ave</td>\n",
              "      <td>W 13 St &amp; 6 Ave</td>\n",
              "    </tr>\n",
              "    <tr>\n",
              "      <th>2727</th>\n",
              "      <td>1 Ave &amp; E 18 St</td>\n",
              "      <td>1 Ave &amp; E 16 St</td>\n",
              "    </tr>\n",
              "    <tr>\n",
              "      <th>2778</th>\n",
              "      <td>W 13 St &amp; 6 Ave</td>\n",
              "      <td>W 13 St &amp; 5 Ave</td>\n",
              "    </tr>\n",
              "    <tr>\n",
              "      <th>3190</th>\n",
              "      <td>Bond St &amp; Fulton St</td>\n",
              "      <td>DeKalb Ave &amp; Hudson Ave</td>\n",
              "    </tr>\n",
              "  </tbody>\n",
              "</table>\n",
              "</div>"
            ],
            "text/plain": [
              "                        First Bike                  Second Bike\n",
              "59                 5 Ave & E 73 St              5 Ave & E 73 St\n",
              "296            St Marks Pl & 2 Ave          St Marks Pl & 1 Ave\n",
              "338          Canal St & Rutgers St         Pike St & E Broadway\n",
              "857        Monroe St & Bedford Ave      Monroe St & Bedford Ave\n",
              "1049             Berry St & N 8 St          N 11 St & Wythe Ave\n",
              "1178            Carroll St & 5 Ave                 5 Ave & 3 St\n",
              "1207       Mercer St & Bleecker St      Mercer St & Bleecker St\n",
              "1210         Howard St & Centre St        Howard St & Centre St\n",
              "1219               W 17 St & 8 Ave              9 Ave & W 18 St\n",
              "1264          Pike St & E Broadway         Division St & Bowery\n",
              "1749  MacDougal St & Washington Sq  Sullivan St & Washington Sq\n",
              "1991               9 Ave & W 45 St              9 Ave & W 45 St\n",
              "2089        W 74 St & Columbus Ave       W 76 St & Columbus Ave\n",
              "2160        W 76 St & Columbus Ave       W 74 St & Columbus Ave\n",
              "2214             2 Ave  & E 104 St     E 103 St & Lexington Ave\n",
              "2376        Columbus Ave & W 72 St      Amsterdam Ave & W 73 St\n",
              "2551               W 13 St & 5 Ave              W 13 St & 6 Ave\n",
              "2727               1 Ave & E 18 St              1 Ave & E 16 St\n",
              "2778               W 13 St & 6 Ave              W 13 St & 5 Ave\n",
              "3190           Bond St & Fulton St      DeKalb Ave & Hudson Ave"
            ]
          },
          "metadata": {
            "tags": []
          },
          "execution_count": 19
        }
      ]
    },
    {
      "cell_type": "code",
      "metadata": {
        "id": "mgjzbFJsTmET",
        "colab_type": "code",
        "colab": {
          "base_uri": "https://localhost:8080/",
          "height": 34
        },
        "outputId": "1ad35642-87b6-422c-8953-e7848f529151"
      },
      "source": [
        "#Checking the same hypothesis with Geo Coordinates\n",
        "df_geocoord = pd.DataFrame()\n",
        "df_geocoord['First Bike'] = df[df['Trip Duration'] < 90]['Start Station Longitude']\n",
        "df_geocoord['Second Bike'] = df[df['Trip Duration'] < 90]['End Station Longitude']\n",
        "df_geocoord.shape"
      ],
      "execution_count": null,
      "outputs": [
        {
          "output_type": "execute_result",
          "data": {
            "text/plain": [
              "(1998, 2)"
            ]
          },
          "metadata": {
            "tags": []
          },
          "execution_count": 20
        }
      ]
    },
    {
      "cell_type": "code",
      "metadata": {
        "id": "BPRZ1uJbUskB",
        "colab_type": "code",
        "colab": {
          "base_uri": "https://localhost:8080/",
          "height": 363
        },
        "outputId": "0179488e-cd50-4583-9d04-29c94dec7d0f"
      },
      "source": [
        "df_geocoord.head(10)"
      ],
      "execution_count": null,
      "outputs": [
        {
          "output_type": "execute_result",
          "data": {
            "text/html": [
              "<div>\n",
              "<style scoped>\n",
              "    .dataframe tbody tr th:only-of-type {\n",
              "        vertical-align: middle;\n",
              "    }\n",
              "\n",
              "    .dataframe tbody tr th {\n",
              "        vertical-align: top;\n",
              "    }\n",
              "\n",
              "    .dataframe thead th {\n",
              "        text-align: right;\n",
              "    }\n",
              "</style>\n",
              "<table border=\"1\" class=\"dataframe\">\n",
              "  <thead>\n",
              "    <tr style=\"text-align: right;\">\n",
              "      <th></th>\n",
              "      <th>First Bike</th>\n",
              "      <th>Second Bike</th>\n",
              "    </tr>\n",
              "  </thead>\n",
              "  <tbody>\n",
              "    <tr>\n",
              "      <th>59</th>\n",
              "      <td>-73.966853</td>\n",
              "      <td>-73.966853</td>\n",
              "    </tr>\n",
              "    <tr>\n",
              "      <th>296</th>\n",
              "      <td>-73.987140</td>\n",
              "      <td>-73.985649</td>\n",
              "    </tr>\n",
              "    <tr>\n",
              "      <th>338</th>\n",
              "      <td>-73.989900</td>\n",
              "      <td>-73.992939</td>\n",
              "    </tr>\n",
              "    <tr>\n",
              "      <th>857</th>\n",
              "      <td>-73.953809</td>\n",
              "      <td>-73.953809</td>\n",
              "    </tr>\n",
              "    <tr>\n",
              "      <th>1049</th>\n",
              "      <td>-73.958525</td>\n",
              "      <td>-73.957824</td>\n",
              "    </tr>\n",
              "    <tr>\n",
              "      <th>1178</th>\n",
              "      <td>-73.981483</td>\n",
              "      <td>-73.983524</td>\n",
              "    </tr>\n",
              "    <tr>\n",
              "      <th>1207</th>\n",
              "      <td>-73.996621</td>\n",
              "      <td>-73.996621</td>\n",
              "    </tr>\n",
              "    <tr>\n",
              "      <th>1210</th>\n",
              "      <td>-73.999733</td>\n",
              "      <td>-73.999733</td>\n",
              "    </tr>\n",
              "    <tr>\n",
              "      <th>1219</th>\n",
              "      <td>-74.001497</td>\n",
              "      <td>-74.003664</td>\n",
              "    </tr>\n",
              "    <tr>\n",
              "      <th>1264</th>\n",
              "      <td>-73.992939</td>\n",
              "      <td>-73.997047</td>\n",
              "    </tr>\n",
              "  </tbody>\n",
              "</table>\n",
              "</div>"
            ],
            "text/plain": [
              "      First Bike  Second Bike\n",
              "59    -73.966853   -73.966853\n",
              "296   -73.987140   -73.985649\n",
              "338   -73.989900   -73.992939\n",
              "857   -73.953809   -73.953809\n",
              "1049  -73.958525   -73.957824\n",
              "1178  -73.981483   -73.983524\n",
              "1207  -73.996621   -73.996621\n",
              "1210  -73.999733   -73.999733\n",
              "1219  -74.001497   -74.003664\n",
              "1264  -73.992939   -73.997047"
            ]
          },
          "metadata": {
            "tags": []
          },
          "execution_count": 21
        }
      ]
    },
    {
      "cell_type": "markdown",
      "metadata": {
        "id": "R6uCvhFhRy5P",
        "colab_type": "text"
      },
      "source": [
        "*There are 3000+ such cases and they cannot be ignored. **Moreover, as we suspected, many of these trips have the same start and end stations**. We can thus remove those specific trips that have the same station start & end names*"
      ]
    },
    {
      "cell_type": "code",
      "metadata": {
        "id": "7utU_fyFS_TM",
        "colab_type": "code",
        "colab": {}
      },
      "source": [
        "#Cleaning Dataset of these trips\n",
        "del(df_bikenum)\n",
        "df = df.drop(df.index[(df['Trip Duration'] < 90) &\n",
        "                      (df['Start Station Latitude'] == df['End Station Latitude'])])"
      ],
      "execution_count": null,
      "outputs": []
    },
    {
      "cell_type": "markdown",
      "metadata": {
        "id": "IsljKYfhb0s5",
        "colab_type": "text"
      },
      "source": [
        "####**Top 5 Stations**"
      ]
    },
    {
      "cell_type": "code",
      "metadata": {
        "id": "MDTNY9yitvQS",
        "colab_type": "code",
        "colab": {
          "base_uri": "https://localhost:8080/",
          "height": 206
        },
        "outputId": "daac803e-4275-4d36-e133-60d48ee487c5"
      },
      "source": [
        "#Top 5 Stations with most starts\n",
        "df1 = pd.DataFrame()\n",
        "df1['Top 5 Stations'] = df[\"Start Station Name\"].value_counts().head().index\n",
        "df1['Number of Starts'] = df[\"Start Station Name\"].value_counts().head().values\n",
        "#df1['Top 5 Stations'] = df1[\"Top 5 Stations\"].cat.remove_unused_categories()\n",
        "#df1['Top 5 Stations'] = df[\"Top 5 Stations\"].astype('object')\n",
        "df1"
      ],
      "execution_count": null,
      "outputs": [
        {
          "output_type": "execute_result",
          "data": {
            "text/html": [
              "<div>\n",
              "<style scoped>\n",
              "    .dataframe tbody tr th:only-of-type {\n",
              "        vertical-align: middle;\n",
              "    }\n",
              "\n",
              "    .dataframe tbody tr th {\n",
              "        vertical-align: top;\n",
              "    }\n",
              "\n",
              "    .dataframe thead th {\n",
              "        text-align: right;\n",
              "    }\n",
              "</style>\n",
              "<table border=\"1\" class=\"dataframe\">\n",
              "  <thead>\n",
              "    <tr style=\"text-align: right;\">\n",
              "      <th></th>\n",
              "      <th>Top 5 Stations</th>\n",
              "      <th>Number of Starts</th>\n",
              "    </tr>\n",
              "  </thead>\n",
              "  <tbody>\n",
              "    <tr>\n",
              "      <th>0</th>\n",
              "      <td>Pershing Square North</td>\n",
              "      <td>5469</td>\n",
              "    </tr>\n",
              "    <tr>\n",
              "      <th>1</th>\n",
              "      <td>W 21 St &amp; 6 Ave</td>\n",
              "      <td>3279</td>\n",
              "    </tr>\n",
              "    <tr>\n",
              "      <th>2</th>\n",
              "      <td>Broadway &amp; E 22 St</td>\n",
              "      <td>3058</td>\n",
              "    </tr>\n",
              "    <tr>\n",
              "      <th>3</th>\n",
              "      <td>E 17 St &amp; Broadway</td>\n",
              "      <td>3040</td>\n",
              "    </tr>\n",
              "    <tr>\n",
              "      <th>4</th>\n",
              "      <td>8 Ave &amp; W 33 St</td>\n",
              "      <td>3036</td>\n",
              "    </tr>\n",
              "  </tbody>\n",
              "</table>\n",
              "</div>"
            ],
            "text/plain": [
              "          Top 5 Stations  Number of Starts\n",
              "0  Pershing Square North              5469\n",
              "1        W 21 St & 6 Ave              3279\n",
              "2     Broadway & E 22 St              3058\n",
              "3     E 17 St & Broadway              3040\n",
              "4        8 Ave & W 33 St              3036"
            ]
          },
          "metadata": {
            "tags": []
          },
          "execution_count": 23
        }
      ]
    },
    {
      "cell_type": "code",
      "metadata": {
        "id": "WRXVbuAXOpUE",
        "colab_type": "code",
        "colab": {
          "base_uri": "https://localhost:8080/",
          "height": 370
        },
        "outputId": "e9f7198d-898c-43e9-8021-da9ef66cc065"
      },
      "source": [
        "#Alternate plotting method\n",
        "\n",
        "ax = sns.barplot('Top 5 Stations', 'Number of Starts', data = df1,\n",
        "                 palette = \"rocket\")\n",
        "ax.set_title('Top 5 Stations with most starts', fontsize = 14)\n",
        "#rcParams['figure.figsize'] = 12,7\n",
        "ax.set_xticklabels(ax.get_xticklabels(), rotation = 40)\n",
        "ax.set_xlabel('Top 5 Stations', fontsize=14)\n",
        "ax.set_ylabel('Number of Starts', fontsize=14)\n",
        "for index, row in df1.iterrows():\n",
        "  ax.text(index, row['Number of Starts']-2000, row['Number of Starts'],\n",
        "          color = 'white', ha='center', fontsize = 10)\n",
        "plt.show()"
      ],
      "execution_count": null,
      "outputs": [
        {
          "output_type": "display_data",
          "data": {
            "image/png": "[encoded data removed]",
            "text/plain": [
              "<Figure size 432x288 with 1 Axes>"
            ]
          },
          "metadata": {
            "tags": [],
            "needs_background": "light"
          }
        }
      ]
    },
    {
      "cell_type": "markdown",
      "metadata": {
        "id": "9C0K5luO0QpU",
        "colab_type": "text"
      },
      "source": [
        "##**Q2) Trip Duration by User Type**"
      ]
    },
    {
      "cell_type": "markdown",
      "metadata": {
        "id": "fxAkXPsveptd",
        "colab_type": "text"
      },
      "source": [
        "####**EDA for Large Trip Durations**"
      ]
    },
    {
      "cell_type": "markdown",
      "metadata": {
        "id": "C4VV4s0zhRon",
        "colab_type": "text"
      },
      "source": [
        "We notice that the maximum value for trip duration is abnormally large. Infact, there are several values which are much larger than the mean trip duration in the dataset. This shouldn't be the case as we will not be able to deduce anything from this kind of distribution plot."
      ]
    },
    {
      "cell_type": "code",
      "metadata": {
        "id": "M8htrjiKd9j0",
        "colab_type": "code",
        "colab": {
          "base_uri": "https://localhost:8080/",
          "height": 34
        },
        "outputId": "0308d1de-3ade-4b1f-84e5-31f5501d87f1"
      },
      "source": [
        "#Addressing the large number of Trip Durations\n",
        "df['Trip Duration'].max()"
      ],
      "execution_count": null,
      "outputs": [
        {
          "output_type": "execute_result",
          "data": {
            "text/plain": [
              "5325688"
            ]
          },
          "metadata": {
            "tags": []
          },
          "execution_count": 25
        }
      ]
    },
    {
      "cell_type": "code",
      "metadata": {
        "id": "uxhkLrfPhQh4",
        "colab_type": "code",
        "colab": {
          "base_uri": "https://localhost:8080/",
          "height": 170
        },
        "outputId": "f2df675c-45fc-4865-e8d7-64c8ed5eddf8"
      },
      "source": [
        "#Row which has this abnormally large distance value\n",
        "df.loc[df['Trip Duration']==df['Trip Duration'].max()]"
      ],
      "execution_count": null,
      "outputs": [
        {
          "output_type": "execute_result",
          "data": {
            "text/html": [
              "<div>\n",
              "<style scoped>\n",
              "    .dataframe tbody tr th:only-of-type {\n",
              "        vertical-align: middle;\n",
              "    }\n",
              "\n",
              "    .dataframe tbody tr th {\n",
              "        vertical-align: top;\n",
              "    }\n",
              "\n",
              "    .dataframe thead th {\n",
              "        text-align: right;\n",
              "    }\n",
              "</style>\n",
              "<table border=\"1\" class=\"dataframe\">\n",
              "  <thead>\n",
              "    <tr style=\"text-align: right;\">\n",
              "      <th></th>\n",
              "      <th>Trip Duration</th>\n",
              "      <th>Start Time</th>\n",
              "      <th>Stop Time</th>\n",
              "      <th>Start Station ID</th>\n",
              "      <th>Start Station Name</th>\n",
              "      <th>Start Station Latitude</th>\n",
              "      <th>Start Station Longitude</th>\n",
              "      <th>End Station ID</th>\n",
              "      <th>End Station Name</th>\n",
              "      <th>End Station Latitude</th>\n",
              "      <th>End Station Longitude</th>\n",
              "      <th>Bike ID</th>\n",
              "      <th>User Type</th>\n",
              "      <th>Birth Year</th>\n",
              "      <th>Gender</th>\n",
              "    </tr>\n",
              "  </thead>\n",
              "  <tbody>\n",
              "    <tr>\n",
              "      <th>207738</th>\n",
              "      <td>5325688</td>\n",
              "      <td>2017-01-11 21:52:17</td>\n",
              "      <td>2017-03-14 14:13:45</td>\n",
              "      <td>302.0</td>\n",
              "      <td>Avenue D &amp; E 3 St</td>\n",
              "      <td>40.720828</td>\n",
              "      <td>-73.977932</td>\n",
              "      <td>3250.0</td>\n",
              "      <td>NYCBS Depot - PIT</td>\n",
              "      <td>40.71691</td>\n",
              "      <td>-73.983838</td>\n",
              "      <td>18223.0</td>\n",
              "      <td>Subscriber</td>\n",
              "      <td>1990.0</td>\n",
              "      <td>1.0</td>\n",
              "    </tr>\n",
              "  </tbody>\n",
              "</table>\n",
              "</div>"
            ],
            "text/plain": [
              "        Trip Duration           Start Time  ... Birth Year  Gender\n",
              "207738        5325688  2017-01-11 21:52:17  ...     1990.0     1.0\n",
              "\n",
              "[1 rows x 15 columns]"
            ]
          },
          "metadata": {
            "tags": []
          },
          "execution_count": 26
        }
      ]
    },
    {
      "cell_type": "code",
      "metadata": {
        "id": "n0DR8EZshWqm",
        "colab_type": "code",
        "colab": {
          "base_uri": "https://localhost:8080/",
          "height": 452
        },
        "outputId": "74774d41-0542-474d-80f9-98b7b59cda2e"
      },
      "source": [
        "df.nlargest(5, ['Trip Duration'])"
      ],
      "execution_count": null,
      "outputs": [
        {
          "output_type": "execute_result",
          "data": {
            "text/html": [
              "<div>\n",
              "<style scoped>\n",
              "    .dataframe tbody tr th:only-of-type {\n",
              "        vertical-align: middle;\n",
              "    }\n",
              "\n",
              "    .dataframe tbody tr th {\n",
              "        vertical-align: top;\n",
              "    }\n",
              "\n",
              "    .dataframe thead th {\n",
              "        text-align: right;\n",
              "    }\n",
              "</style>\n",
              "<table border=\"1\" class=\"dataframe\">\n",
              "  <thead>\n",
              "    <tr style=\"text-align: right;\">\n",
              "      <th></th>\n",
              "      <th>Trip Duration</th>\n",
              "      <th>Start Time</th>\n",
              "      <th>Stop Time</th>\n",
              "      <th>Start Station ID</th>\n",
              "      <th>Start Station Name</th>\n",
              "      <th>Start Station Latitude</th>\n",
              "      <th>Start Station Longitude</th>\n",
              "      <th>End Station ID</th>\n",
              "      <th>End Station Name</th>\n",
              "      <th>End Station Latitude</th>\n",
              "      <th>End Station Longitude</th>\n",
              "      <th>Bike ID</th>\n",
              "      <th>User Type</th>\n",
              "      <th>Birth Year</th>\n",
              "      <th>Gender</th>\n",
              "    </tr>\n",
              "  </thead>\n",
              "  <tbody>\n",
              "    <tr>\n",
              "      <th>207738</th>\n",
              "      <td>5325688</td>\n",
              "      <td>2017-01-11 21:52:17</td>\n",
              "      <td>2017-03-14 14:13:45</td>\n",
              "      <td>302.0</td>\n",
              "      <td>Avenue D &amp; E 3 St</td>\n",
              "      <td>40.720828</td>\n",
              "      <td>-73.977932</td>\n",
              "      <td>3250.0</td>\n",
              "      <td>NYCBS Depot - PIT</td>\n",
              "      <td>40.716910</td>\n",
              "      <td>-73.983838</td>\n",
              "      <td>18223.0</td>\n",
              "      <td>Subscriber</td>\n",
              "      <td>1990.0</td>\n",
              "      <td>1.0</td>\n",
              "    </tr>\n",
              "    <tr>\n",
              "      <th>406054</th>\n",
              "      <td>3152489</td>\n",
              "      <td>2017-01-19 15:15:38</td>\n",
              "      <td>2017-02-25 02:57:07</td>\n",
              "      <td>325.0</td>\n",
              "      <td>E 19 St &amp; 3 Ave</td>\n",
              "      <td>40.736245</td>\n",
              "      <td>-73.984738</td>\n",
              "      <td>291.0</td>\n",
              "      <td>Madison St &amp; Montgomery St</td>\n",
              "      <td>40.713126</td>\n",
              "      <td>-73.984844</td>\n",
              "      <td>24795.0</td>\n",
              "      <td>Subscriber</td>\n",
              "      <td>1964.0</td>\n",
              "      <td>2.0</td>\n",
              "    </tr>\n",
              "    <tr>\n",
              "      <th>70824</th>\n",
              "      <td>1305987</td>\n",
              "      <td>2017-01-04 20:20:02</td>\n",
              "      <td>2017-01-19 23:06:30</td>\n",
              "      <td>3435.0</td>\n",
              "      <td>Grand St &amp; Elizabeth St</td>\n",
              "      <td>40.718822</td>\n",
              "      <td>-73.995960</td>\n",
              "      <td>504.0</td>\n",
              "      <td>1 Ave &amp; E 16 St</td>\n",
              "      <td>40.732219</td>\n",
              "      <td>-73.981656</td>\n",
              "      <td>20054.0</td>\n",
              "      <td>Subscriber</td>\n",
              "      <td>1983.0</td>\n",
              "      <td>1.0</td>\n",
              "    </tr>\n",
              "    <tr>\n",
              "      <th>275555</th>\n",
              "      <td>784198</td>\n",
              "      <td>2017-01-13 18:11:42</td>\n",
              "      <td>2017-01-22 20:01:40</td>\n",
              "      <td>455.0</td>\n",
              "      <td>1 Ave &amp; E 44 St</td>\n",
              "      <td>40.750020</td>\n",
              "      <td>-73.969053</td>\n",
              "      <td>3237.0</td>\n",
              "      <td>21 St &amp; 41 Ave</td>\n",
              "      <td>40.753833</td>\n",
              "      <td>-73.942677</td>\n",
              "      <td>16849.0</td>\n",
              "      <td>Subscriber</td>\n",
              "      <td>1975.0</td>\n",
              "      <td>1.0</td>\n",
              "    </tr>\n",
              "    <tr>\n",
              "      <th>184835</th>\n",
              "      <td>622702</td>\n",
              "      <td>2017-01-11 09:38:44</td>\n",
              "      <td>2017-01-18 14:37:07</td>\n",
              "      <td>3219.0</td>\n",
              "      <td>NYCBS Depot - STY</td>\n",
              "      <td>40.729193</td>\n",
              "      <td>-73.976655</td>\n",
              "      <td>3219.0</td>\n",
              "      <td>NYCBS Depot - STY</td>\n",
              "      <td>40.729193</td>\n",
              "      <td>-73.976655</td>\n",
              "      <td>23368.0</td>\n",
              "      <td>Subscriber</td>\n",
              "      <td>1988.0</td>\n",
              "      <td>2.0</td>\n",
              "    </tr>\n",
              "  </tbody>\n",
              "</table>\n",
              "</div>"
            ],
            "text/plain": [
              "        Trip Duration           Start Time  ... Birth Year  Gender\n",
              "207738        5325688  2017-01-11 21:52:17  ...     1990.0     1.0\n",
              "406054        3152489  2017-01-19 15:15:38  ...     1964.0     2.0\n",
              "70824         1305987  2017-01-04 20:20:02  ...     1983.0     1.0\n",
              "275555         784198  2017-01-13 18:11:42  ...     1975.0     1.0\n",
              "184835         622702  2017-01-11 09:38:44  ...     1988.0     2.0\n",
              "\n",
              "[5 rows x 15 columns]"
            ]
          },
          "metadata": {
            "tags": []
          },
          "execution_count": 27
        }
      ]
    },
    {
      "cell_type": "markdown",
      "metadata": {
        "id": "NKKiw6XkhjDc",
        "colab_type": "text"
      },
      "source": [
        "Realistically speaking, even if a rider decides to rent the bike overnight, the total trip duration shouldn't exceed 48 hours at the most. This is conservative as the mean trip duration lies somewhere around 2 hours. Therefore, we can decide to remove all those trip durations that exceed around 24-27 hrs. Also, we can try to play around with this threshold and see what percentage of trip durations in the dataset belong to those that exceed different time limits\n",
        "\n",
        "We first find out what effect would dropping those rows have on the dataset."
      ]
    },
    {
      "cell_type": "code",
      "metadata": {
        "id": "v_o9CO4ZhiDD",
        "colab_type": "code",
        "colab": {
          "base_uri": "https://localhost:8080/",
          "height": 34
        },
        "outputId": "f13a68c2-36f3-45f7-83a3-42cc12319bca"
      },
      "source": [
        "#Rows that exceed our set threshold of trip duration\n",
        "df_trip_dur = df.loc[df['Trip Duration']>=9999]\n",
        "df_trip_dur.shape"
      ],
      "execution_count": null,
      "outputs": [
        {
          "output_type": "execute_result",
          "data": {
            "text/plain": [
              "(334, 15)"
            ]
          },
          "metadata": {
            "tags": []
          },
          "execution_count": 28
        }
      ]
    },
    {
      "cell_type": "code",
      "metadata": {
        "id": "HC5rKl7MhiAo",
        "colab_type": "code",
        "colab": {
          "base_uri": "https://localhost:8080/",
          "height": 34
        },
        "outputId": "26e3a4ab-994b-4bb5-9b6f-f2e2ead015e4"
      },
      "source": [
        "#Percentage of trip durations that exceed 24 hours in the dataset\n",
        "(df_trip_dur.shape[0] / df[\"Trip Duration\"].shape[0])*100"
      ],
      "execution_count": null,
      "outputs": [
        {
          "output_type": "execute_result",
          "data": {
            "text/plain": [
              "0.07704657857828301"
            ]
          },
          "metadata": {
            "tags": []
          },
          "execution_count": 29
        }
      ]
    },
    {
      "cell_type": "markdown",
      "metadata": {
        "id": "_G_wawq_ht__",
        "colab_type": "text"
      },
      "source": [
        "Rows that have trip duration of more than **9999 seconds (2.7 hrs)** constitute about **0.08%** of the entire dataset. There is no harm in dropping these rows if by doing so, we can visualize our data well without compromising the effectivity of our predictive model."
      ]
    },
    {
      "cell_type": "code",
      "metadata": {
        "id": "Zr01PI4qhvMP",
        "colab_type": "code",
        "colab": {
          "base_uri": "https://localhost:8080/",
          "height": 34
        },
        "outputId": "ae2756e5-0f20-4429-d934-02874f1a6ca8"
      },
      "source": [
        "#Dropping the stated rows\n",
        "df = df.loc[df['Trip Duration']<=9999]\n",
        "df.shape"
      ],
      "execution_count": null,
      "outputs": [
        {
          "output_type": "execute_result",
          "data": {
            "text/plain": [
              "(433170, 15)"
            ]
          },
          "metadata": {
            "tags": []
          },
          "execution_count": 30
        }
      ]
    },
    {
      "cell_type": "code",
      "metadata": {
        "id": "wy00D37Hh0rB",
        "colab_type": "code",
        "colab": {
          "base_uri": "https://localhost:8080/",
          "height": 173
        },
        "outputId": "34b05baf-b791-4d66-ce2e-5dd895f11bf4"
      },
      "source": [
        "df['Trip Duration'].describe()"
      ],
      "execution_count": null,
      "outputs": [
        {
          "output_type": "execute_result",
          "data": {
            "text/plain": [
              "count    433170.000000\n",
              "mean        654.729817\n",
              "std         492.806886\n",
              "min          61.000000\n",
              "25%         327.000000\n",
              "50%         515.000000\n",
              "75%         827.000000\n",
              "max        9989.000000\n",
              "Name: Trip Duration, dtype: float64"
            ]
          },
          "metadata": {
            "tags": []
          },
          "execution_count": 31
        }
      ]
    },
    {
      "cell_type": "code",
      "metadata": {
        "id": "1HmBjaASh0od",
        "colab_type": "code",
        "colab": {
          "base_uri": "https://localhost:8080/",
          "height": 452
        },
        "outputId": "a9d1bb63-f66b-4e39-896a-6774fdc97405"
      },
      "source": [
        "#Performing a Sanity check again\n",
        "df.nlargest(5, ['Trip Duration'])"
      ],
      "execution_count": null,
      "outputs": [
        {
          "output_type": "execute_result",
          "data": {
            "text/html": [
              "<div>\n",
              "<style scoped>\n",
              "    .dataframe tbody tr th:only-of-type {\n",
              "        vertical-align: middle;\n",
              "    }\n",
              "\n",
              "    .dataframe tbody tr th {\n",
              "        vertical-align: top;\n",
              "    }\n",
              "\n",
              "    .dataframe thead th {\n",
              "        text-align: right;\n",
              "    }\n",
              "</style>\n",
              "<table border=\"1\" class=\"dataframe\">\n",
              "  <thead>\n",
              "    <tr style=\"text-align: right;\">\n",
              "      <th></th>\n",
              "      <th>Trip Duration</th>\n",
              "      <th>Start Time</th>\n",
              "      <th>Stop Time</th>\n",
              "      <th>Start Station ID</th>\n",
              "      <th>Start Station Name</th>\n",
              "      <th>Start Station Latitude</th>\n",
              "      <th>Start Station Longitude</th>\n",
              "      <th>End Station ID</th>\n",
              "      <th>End Station Name</th>\n",
              "      <th>End Station Latitude</th>\n",
              "      <th>End Station Longitude</th>\n",
              "      <th>Bike ID</th>\n",
              "      <th>User Type</th>\n",
              "      <th>Birth Year</th>\n",
              "      <th>Gender</th>\n",
              "    </tr>\n",
              "  </thead>\n",
              "  <tbody>\n",
              "    <tr>\n",
              "      <th>318634</th>\n",
              "      <td>9989</td>\n",
              "      <td>2017-01-16 11:21:21</td>\n",
              "      <td>2017-01-16 14:07:50</td>\n",
              "      <td>3295.0</td>\n",
              "      <td>Central Park W &amp; W 96 St</td>\n",
              "      <td>40.791270</td>\n",
              "      <td>-73.964839</td>\n",
              "      <td>500.0</td>\n",
              "      <td>Broadway &amp; W 51 St</td>\n",
              "      <td>40.762288</td>\n",
              "      <td>-73.983362</td>\n",
              "      <td>19426.0</td>\n",
              "      <td>Subscriber</td>\n",
              "      <td>1946.0</td>\n",
              "      <td>1.0</td>\n",
              "    </tr>\n",
              "    <tr>\n",
              "      <th>220929</th>\n",
              "      <td>9939</td>\n",
              "      <td>2017-01-12 11:17:03</td>\n",
              "      <td>2017-01-12 14:02:42</td>\n",
              "      <td>3224.0</td>\n",
              "      <td>W 13 St &amp; Hudson St</td>\n",
              "      <td>40.739974</td>\n",
              "      <td>-74.005139</td>\n",
              "      <td>3428.0</td>\n",
              "      <td>8 Ave &amp; W 16 St</td>\n",
              "      <td>40.740983</td>\n",
              "      <td>-74.001702</td>\n",
              "      <td>25828.0</td>\n",
              "      <td>Subscriber</td>\n",
              "      <td>1988.0</td>\n",
              "      <td>1.0</td>\n",
              "    </tr>\n",
              "    <tr>\n",
              "      <th>368650</th>\n",
              "      <td>9908</td>\n",
              "      <td>2017-01-18 13:47:24</td>\n",
              "      <td>2017-01-18 16:32:33</td>\n",
              "      <td>253.0</td>\n",
              "      <td>W 13 St &amp; 5 Ave</td>\n",
              "      <td>40.735439</td>\n",
              "      <td>-73.994539</td>\n",
              "      <td>445.0</td>\n",
              "      <td>E 10 St &amp; Avenue A</td>\n",
              "      <td>40.727408</td>\n",
              "      <td>-73.981420</td>\n",
              "      <td>17972.0</td>\n",
              "      <td>Subscriber</td>\n",
              "      <td>1985.0</td>\n",
              "      <td>1.0</td>\n",
              "    </tr>\n",
              "    <tr>\n",
              "      <th>441477</th>\n",
              "      <td>9733</td>\n",
              "      <td>2017-01-20 15:15:50</td>\n",
              "      <td>2017-01-20 17:58:03</td>\n",
              "      <td>3142.0</td>\n",
              "      <td>1 Ave &amp; E 62 St</td>\n",
              "      <td>40.761227</td>\n",
              "      <td>-73.960940</td>\n",
              "      <td>3323.0</td>\n",
              "      <td>W 106 St &amp; Central Park West</td>\n",
              "      <td>40.798186</td>\n",
              "      <td>-73.960591</td>\n",
              "      <td>25623.0</td>\n",
              "      <td>Subscriber</td>\n",
              "      <td>1999.0</td>\n",
              "      <td>2.0</td>\n",
              "    </tr>\n",
              "    <tr>\n",
              "      <th>48580</th>\n",
              "      <td>9718</td>\n",
              "      <td>2017-01-04 09:33:17</td>\n",
              "      <td>2017-01-04 12:15:15</td>\n",
              "      <td>438.0</td>\n",
              "      <td>St Marks Pl &amp; 1 Ave</td>\n",
              "      <td>40.727791</td>\n",
              "      <td>-73.985649</td>\n",
              "      <td>493.0</td>\n",
              "      <td>W 45 St &amp; 6 Ave</td>\n",
              "      <td>40.756800</td>\n",
              "      <td>-73.982912</td>\n",
              "      <td>26699.0</td>\n",
              "      <td>Subscriber</td>\n",
              "      <td>1983.0</td>\n",
              "      <td>1.0</td>\n",
              "    </tr>\n",
              "  </tbody>\n",
              "</table>\n",
              "</div>"
            ],
            "text/plain": [
              "        Trip Duration           Start Time  ... Birth Year  Gender\n",
              "318634           9989  2017-01-16 11:21:21  ...     1946.0     1.0\n",
              "220929           9939  2017-01-12 11:17:03  ...     1988.0     1.0\n",
              "368650           9908  2017-01-18 13:47:24  ...     1985.0     1.0\n",
              "441477           9733  2017-01-20 15:15:50  ...     1999.0     2.0\n",
              "48580            9718  2017-01-04 09:33:17  ...     1983.0     1.0\n",
              "\n",
              "[5 rows x 15 columns]"
            ]
          },
          "metadata": {
            "tags": []
          },
          "execution_count": 32
        }
      ]
    },
    {
      "cell_type": "code",
      "metadata": {
        "id": "_7Pt8EO7kIKs",
        "colab_type": "code",
        "colab": {
          "base_uri": "https://localhost:8080/",
          "height": 34
        },
        "outputId": "7cf84074-7656-42db-a80a-b6a6aa619886"
      },
      "source": [
        "df['User Type'].dtypes"
      ],
      "execution_count": null,
      "outputs": [
        {
          "output_type": "execute_result",
          "data": {
            "text/plain": [
              "dtype('O')"
            ]
          },
          "metadata": {
            "tags": []
          },
          "execution_count": 33
        }
      ]
    },
    {
      "cell_type": "markdown",
      "metadata": {
        "id": "8K6Ot_4e9AXC",
        "colab_type": "text"
      },
      "source": [
        "####**Average Trip Duration By the 2 User Types (in Seconds)**"
      ]
    },
    {
      "cell_type": "code",
      "metadata": {
        "id": "qKNmE5PHjbsv",
        "colab_type": "code",
        "colab": {}
      },
      "source": [
        "#Calculating Trip Duration\n",
        "df_TD = pd.DataFrame()\n",
        "df_TD['Avg. Trip Duration'] = round(df.groupby('User Type')['Trip Duration'].mean(),2)\n",
        "df_TD = df_TD.reset_index()\n",
        "df_TD['User Type'] = df_TD['User Type'].astype('object')"
      ],
      "execution_count": null,
      "outputs": []
    },
    {
      "cell_type": "code",
      "metadata": {
        "id": "0EJ-lDcQ3xiX",
        "colab_type": "code",
        "colab": {
          "base_uri": "https://localhost:8080/",
          "height": 419
        },
        "outputId": "74782401-f8f4-48d9-bb45-f97712e04109"
      },
      "source": [
        "#Grouping User Types with the average duration for their respective trips\n",
        "grouped_user = df[[\"User Type\",\"Trip Duration\"]]\n",
        "grouped_user = grouped_user.groupby(['User Type'], as_index=False).mean()\n",
        "print(grouped_user)\n",
        "print('\\n')\n",
        "ax2 = sns.barplot('User Type', 'Avg. Trip Duration', data = df_TD,\n",
        "                  palette = 'rocket')\n",
        "ax2.set_title('Average Trip Duration by User Type', fontsize=14)\n",
        "ax2.set_xticklabels(ax2.get_xticklabels(), rotation = 40, ha = 'right')\n",
        "ax2.set_xlabel('User Type', fontsize=14)\n",
        "ax2.set_ylabel('Average Trip Duration (Seconds)', fontsize=14)\n",
        "for index,row in df_TD.iterrows():\n",
        "  ax2.text(index,row['Avg. Trip Duration']-100,\n",
        "           (str(row['Avg. Trip Duration'])+\" Seconds\"),\n",
        "           color = 'white', ha = \"center\", fontsize = 10)\n",
        "plt.show()"
      ],
      "execution_count": null,
      "outputs": [
        {
          "output_type": "stream",
          "text": [
            "    User Type  Trip Duration\n",
            "0    Customer    1932.174825\n",
            "1  Subscriber     654.307962\n",
            "\n",
            "\n"
          ],
          "name": "stdout"
        },
        {
          "output_type": "display_data",
          "data": {
            "image/png": "[encoded data removed]",
            "text/plain": [
              "<Figure size 432x288 with 1 Axes>"
            ]
          },
          "metadata": {
            "tags": [],
            "needs_background": "light"
          }
        }
      ]
    },
    {
      "cell_type": "code",
      "metadata": {
        "id": "ub8W6mfZ--sX",
        "colab_type": "code",
        "colab": {
          "base_uri": "https://localhost:8080/",
          "height": 373
        },
        "outputId": "0c6594ad-0e5d-4135-df5c-8be9c8657c88"
      },
      "source": [
        "grouped_df_pie = grouped_user.groupby('User Type', axis = 0).sum()\n",
        "\n",
        "grouped_df_pie.plot(kind='pie',subplots = True, figsize=(5, 6),\n",
        "                            autopct='%1.1f%%', # add in percentages\n",
        "                            startangle=90,     # start angle 90°\n",
        "                            shadow=True,       # add shadow     \n",
        "                            )\n",
        "\n",
        "plt.title('User Types by Trip Duration')\n",
        "plt.axis('equal') # Sets the pie chart to look like a circle.\n",
        "\n",
        "plt.show()"
      ],
      "execution_count": null,
      "outputs": [
        {
          "output_type": "display_data",
          "data": {
            "image/png": "[encoded data removed]",
            "text/plain": [
              "<Figure size 360x432 with 1 Axes>"
            ]
          },
          "metadata": {
            "tags": []
          }
        }
      ]
    },
    {
      "cell_type": "markdown",
      "metadata": {
        "id": "B3opah8Q_nFo",
        "colab_type": "text"
      },
      "source": [
        "We can say that the longest no. of trips are performed by 'Customer' User Types. "
      ]
    },
    {
      "cell_type": "markdown",
      "metadata": {
        "id": "za0dgB7v_19d",
        "colab_type": "text"
      },
      "source": [
        "##**Q3) Most Popular Trips**\n",
        "\n",
        "*Based on Start Station and End Station*"
      ]
    },
    {
      "cell_type": "markdown",
      "metadata": {
        "id": "a9XN5m05AtyW",
        "colab_type": "text"
      },
      "source": [
        "We look at the combinations of Start Station & End Stations that occur most frequenty and perform feature engineering."
      ]
    },
    {
      "cell_type": "code",
      "metadata": {
        "id": "gCWOzGBQzSmM",
        "colab_type": "code",
        "colab": {
          "base_uri": "https://localhost:8080/",
          "height": 363
        },
        "outputId": "390f9728-86f3-48c4-e636-cd3cf561acaf"
      },
      "source": [
        "#Identifying the popular trip routes from groupby function\n",
        "df_trips = pd.DataFrame()\n",
        "df_trips = df.groupby([\"Start Station Name\",\"End Station Name\"]).size().reset_index(name = \"Number of Trips\")\n",
        "df_trips = df_trips.sort_values(\"Number of Trips\", ascending = False)\n",
        "df_trips[\"Start Station Name\"] = df_trips[\"Start Station Name\"].astype(str)\n",
        "df_trips[\"End Station Name\"] = df_trips[\"End Station Name\"].astype(str)\n",
        "df_trips[\"Trip Route\"] = df_trips[\"Start Station Name\"] + \" -- TO -- \" + df_trips[\"End Station Name\"]\n",
        "df_trips = df_trips[:10]\n",
        "df_trips = df_trips.drop([\"Start Station Name\",\"End Station Name\"], axis = 1)\n",
        "df_trips.head(10)"
      ],
      "execution_count": null,
      "outputs": [
        {
          "output_type": "execute_result",
          "data": {
            "text/html": [
              "<div>\n",
              "<style scoped>\n",
              "    .dataframe tbody tr th:only-of-type {\n",
              "        vertical-align: middle;\n",
              "    }\n",
              "\n",
              "    .dataframe tbody tr th {\n",
              "        vertical-align: top;\n",
              "    }\n",
              "\n",
              "    .dataframe thead th {\n",
              "        text-align: right;\n",
              "    }\n",
              "</style>\n",
              "<table border=\"1\" class=\"dataframe\">\n",
              "  <thead>\n",
              "    <tr style=\"text-align: right;\">\n",
              "      <th></th>\n",
              "      <th>Number of Trips</th>\n",
              "      <th>Trip Route</th>\n",
              "    </tr>\n",
              "  </thead>\n",
              "  <tbody>\n",
              "    <tr>\n",
              "      <th>37943</th>\n",
              "      <td>263</td>\n",
              "      <td>E 7 St &amp; Avenue A -- TO -- Cooper Square &amp; E 7 St</td>\n",
              "    </tr>\n",
              "    <tr>\n",
              "      <th>45630</th>\n",
              "      <td>227</td>\n",
              "      <td>Greenwich Ave &amp; Charles St -- TO -- Greenwich ...</td>\n",
              "    </tr>\n",
              "    <tr>\n",
              "      <th>67860</th>\n",
              "      <td>209</td>\n",
              "      <td>W 21 St &amp; 6 Ave -- TO -- 9 Ave &amp; W 22 St</td>\n",
              "    </tr>\n",
              "    <tr>\n",
              "      <th>57319</th>\n",
              "      <td>204</td>\n",
              "      <td>Pershing Square North -- TO -- Broadway &amp; W 32 St</td>\n",
              "    </tr>\n",
              "    <tr>\n",
              "      <th>57381</th>\n",
              "      <td>193</td>\n",
              "      <td>Pershing Square North -- TO -- E 24 St &amp; Park ...</td>\n",
              "    </tr>\n",
              "    <tr>\n",
              "      <th>31383</th>\n",
              "      <td>192</td>\n",
              "      <td>E 33 St &amp; 2 Ave -- TO -- W 33 St &amp; 7 Ave</td>\n",
              "    </tr>\n",
              "    <tr>\n",
              "      <th>55478</th>\n",
              "      <td>184</td>\n",
              "      <td>N 6 St &amp; Bedford Ave -- TO -- Wythe Ave &amp; Metr...</td>\n",
              "    </tr>\n",
              "    <tr>\n",
              "      <th>59243</th>\n",
              "      <td>173</td>\n",
              "      <td>Richardson St &amp; N Henry St -- TO -- Graham Ave...</td>\n",
              "    </tr>\n",
              "    <tr>\n",
              "      <th>57554</th>\n",
              "      <td>172</td>\n",
              "      <td>Pershing Square North -- TO -- W 33 St &amp; 7 Ave</td>\n",
              "    </tr>\n",
              "    <tr>\n",
              "      <th>80424</th>\n",
              "      <td>169</td>\n",
              "      <td>Wythe Ave &amp; Metropolitan Ave -- TO -- N 6 St &amp;...</td>\n",
              "    </tr>\n",
              "  </tbody>\n",
              "</table>\n",
              "</div>"
            ],
            "text/plain": [
              "       Number of Trips                                         Trip Route\n",
              "37943              263  E 7 St & Avenue A -- TO -- Cooper Square & E 7 St\n",
              "45630              227  Greenwich Ave & Charles St -- TO -- Greenwich ...\n",
              "67860              209           W 21 St & 6 Ave -- TO -- 9 Ave & W 22 St\n",
              "57319              204  Pershing Square North -- TO -- Broadway & W 32 St\n",
              "57381              193  Pershing Square North -- TO -- E 24 St & Park ...\n",
              "31383              192           E 33 St & 2 Ave -- TO -- W 33 St & 7 Ave\n",
              "55478              184  N 6 St & Bedford Ave -- TO -- Wythe Ave & Metr...\n",
              "59243              173  Richardson St & N Henry St -- TO -- Graham Ave...\n",
              "57554              172     Pershing Square North -- TO -- W 33 St & 7 Ave\n",
              "80424              169  Wythe Ave & Metropolitan Ave -- TO -- N 6 St &..."
            ]
          },
          "metadata": {
            "tags": []
          },
          "execution_count": 37
        }
      ]
    },
    {
      "cell_type": "markdown",
      "metadata": {
        "id": "p0cft4u143lA",
        "colab_type": "text"
      },
      "source": [
        "####**Visualizing by Bar Plots**"
      ]
    },
    {
      "cell_type": "code",
      "metadata": {
        "id": "4NwToFV24yY9",
        "colab_type": "code",
        "colab": {
          "base_uri": "https://localhost:8080/",
          "height": 300
        },
        "outputId": "47da4e40-3a60-47a9-a7b0-5010453b6871"
      },
      "source": [
        "#5 Most popular routes along with their frequency stored in dataframe\n",
        "ax4 = sns.barplot(x='Number of Trips',y='Trip Route', data = df_trips, palette = 'rocket')\n",
        "ax4.set_title('Most Popular Trips', fontsize = 14)\n",
        "ax4.set_ylabel('Trip', fontsize = 14)\n",
        "ax4.set_xlabel('Number of Trips',fontsize = 14)\n",
        "#for index, row in df_trips.iterrows():\n",
        "    #ax4.text(row['Number of Trips']-200, index,\n",
        "            # (str(row['Number of Trips'])+\" Trips\"), \n",
        "            # color = 'white', ha  = \"center\", fontsize = 10)\n",
        "plt.show()"
      ],
      "execution_count": null,
      "outputs": [
        {
          "output_type": "display_data",
          "data": {
            "image/png": "[encoded data removed]",
            "text/plain": [
              "<Figure size 432x288 with 1 Axes>"
            ]
          },
          "metadata": {
            "tags": [],
            "needs_background": "light"
          }
        }
      ]
    },
    {
      "cell_type": "markdown",
      "metadata": {
        "id": "EopVcHpq9V96",
        "colab_type": "text"
      },
      "source": [
        "####**Alternate method by feature engineering**"
      ]
    },
    {
      "cell_type": "code",
      "metadata": {
        "id": "MeTHkAXXAVIA",
        "colab_type": "code",
        "colab": {}
      },
      "source": [
        "#Engineering Features 'Counts' and 'Max' for this\n",
        "#We first group the start and end stations together and transform the dataset\n",
        "df['Count']=df.groupby(['Start Station Name','End Station Name'])['End Station Name'].transform('size')\n",
        "\n",
        "#We than calculate the no. of times that unique combination of start and end stations occurs in the dataset\n",
        "#df['Max']=df.groupby(['Start Station Name'])['Count'].transform('max')==df['Count']\n",
        "df3 = df[['Start Station Name','End Station Name','Count']]\n",
        "\n",
        "#Highest Occuring Count\n",
        "highest_count = df3.Count.max()"
      ],
      "execution_count": null,
      "outputs": []
    },
    {
      "cell_type": "code",
      "metadata": {
        "id": "G4hz0A7-BbA9",
        "colab_type": "code",
        "colab": {
          "base_uri": "https://localhost:8080/",
          "height": 81
        },
        "outputId": "594ae2dd-45aa-47e8-cd3a-aad109b1ebcf"
      },
      "source": [
        "#Required Combination\n",
        "df3.loc[df3['Count'] == highest_count].head(1)"
      ],
      "execution_count": null,
      "outputs": [
        {
          "output_type": "execute_result",
          "data": {
            "text/html": [
              "<div>\n",
              "<style scoped>\n",
              "    .dataframe tbody tr th:only-of-type {\n",
              "        vertical-align: middle;\n",
              "    }\n",
              "\n",
              "    .dataframe tbody tr th {\n",
              "        vertical-align: top;\n",
              "    }\n",
              "\n",
              "    .dataframe thead th {\n",
              "        text-align: right;\n",
              "    }\n",
              "</style>\n",
              "<table border=\"1\" class=\"dataframe\">\n",
              "  <thead>\n",
              "    <tr style=\"text-align: right;\">\n",
              "      <th></th>\n",
              "      <th>Start Station Name</th>\n",
              "      <th>End Station Name</th>\n",
              "      <th>Count</th>\n",
              "    </tr>\n",
              "  </thead>\n",
              "  <tbody>\n",
              "    <tr>\n",
              "      <th>3771</th>\n",
              "      <td>E 7 St &amp; Avenue A</td>\n",
              "      <td>Cooper Square &amp; E 7 St</td>\n",
              "      <td>263</td>\n",
              "    </tr>\n",
              "  </tbody>\n",
              "</table>\n",
              "</div>"
            ],
            "text/plain": [
              "     Start Station Name        End Station Name  Count\n",
              "3771  E 7 St & Avenue A  Cooper Square & E 7 St    263"
            ]
          },
          "metadata": {
            "tags": []
          },
          "execution_count": 40
        }
      ]
    },
    {
      "cell_type": "markdown",
      "metadata": {
        "id": "j_WVh8tTDmWU",
        "colab_type": "text"
      },
      "source": [
        "So we know that the most popular trips were between Stations ***E 7 St & Avenue A*** and ***Cooper Square & E 7 St***\t\n",
        "\n",
        "In order to visualize the most popular trip routes, we first list out the **5 most frequently used routes** and give them **Route IDs**"
      ]
    },
    {
      "cell_type": "code",
      "metadata": {
        "id": "hfBWXivfgNG_",
        "colab_type": "code",
        "colab": {
          "base_uri": "https://localhost:8080/",
          "height": 206
        },
        "outputId": "0517a1b3-8c25-49c9-8e69-488274847388"
      },
      "source": [
        "df_pop = df[['Start Station Name','End Station Name','Count']]\n",
        "df_pop = df_pop.groupby(['Count'], as_index = False).sum()\n",
        "#dist_perf_pivot = df_dist_perf.pivot(index = 'Age', columns = 'Gender')\n",
        "df_pop.tail(5)"
      ],
      "execution_count": null,
      "outputs": [
        {
          "output_type": "execute_result",
          "data": {
            "text/html": [
              "<div>\n",
              "<style scoped>\n",
              "    .dataframe tbody tr th:only-of-type {\n",
              "        vertical-align: middle;\n",
              "    }\n",
              "\n",
              "    .dataframe tbody tr th {\n",
              "        vertical-align: top;\n",
              "    }\n",
              "\n",
              "    .dataframe thead th {\n",
              "        text-align: right;\n",
              "    }\n",
              "</style>\n",
              "<table border=\"1\" class=\"dataframe\">\n",
              "  <thead>\n",
              "    <tr style=\"text-align: right;\">\n",
              "      <th></th>\n",
              "      <th>Count</th>\n",
              "      <th>Start Station Name</th>\n",
              "      <th>End Station Name</th>\n",
              "    </tr>\n",
              "  </thead>\n",
              "  <tbody>\n",
              "    <tr>\n",
              "      <th>140</th>\n",
              "      <td>193</td>\n",
              "      <td>Pershing Square NorthPershing Square NorthPers...</td>\n",
              "      <td>E 24 St &amp; Park Ave SE 24 St &amp; Park Ave SE 24 S...</td>\n",
              "    </tr>\n",
              "    <tr>\n",
              "      <th>141</th>\n",
              "      <td>204</td>\n",
              "      <td>Pershing Square NorthPershing Square NorthPers...</td>\n",
              "      <td>Broadway &amp; W 32 StBroadway &amp; W 32 StBroadway &amp;...</td>\n",
              "    </tr>\n",
              "    <tr>\n",
              "      <th>142</th>\n",
              "      <td>209</td>\n",
              "      <td>W 21 St &amp; 6 AveW 21 St &amp; 6 AveW 21 St &amp; 6 AveW...</td>\n",
              "      <td>9 Ave &amp; W 22 St9 Ave &amp; W 22 St9 Ave &amp; W 22 St9...</td>\n",
              "    </tr>\n",
              "    <tr>\n",
              "      <th>143</th>\n",
              "      <td>227</td>\n",
              "      <td>Greenwich Ave &amp; Charles StGreenwich Ave &amp; Char...</td>\n",
              "      <td>Greenwich Ave &amp; Charles StGreenwich Ave &amp; Char...</td>\n",
              "    </tr>\n",
              "    <tr>\n",
              "      <th>144</th>\n",
              "      <td>263</td>\n",
              "      <td>E 7 St &amp; Avenue AE 7 St &amp; Avenue AE 7 St &amp; Ave...</td>\n",
              "      <td>Cooper Square &amp; E 7 StCooper Square &amp; E 7 StCo...</td>\n",
              "    </tr>\n",
              "  </tbody>\n",
              "</table>\n",
              "</div>"
            ],
            "text/plain": [
              "     Count  ...                                   End Station Name\n",
              "140    193  ...  E 24 St & Park Ave SE 24 St & Park Ave SE 24 S...\n",
              "141    204  ...  Broadway & W 32 StBroadway & W 32 StBroadway &...\n",
              "142    209  ...  9 Ave & W 22 St9 Ave & W 22 St9 Ave & W 22 St9...\n",
              "143    227  ...  Greenwich Ave & Charles StGreenwich Ave & Char...\n",
              "144    263  ...  Cooper Square & E 7 StCooper Square & E 7 StCo...\n",
              "\n",
              "[5 rows x 3 columns]"
            ]
          },
          "metadata": {
            "tags": []
          },
          "execution_count": 41
        }
      ]
    },
    {
      "cell_type": "markdown",
      "metadata": {
        "id": "zMoY5SkfaO8R",
        "colab_type": "text"
      },
      "source": [
        "Better Visualization requires our bar plots to have x-labels as the specific routes which are identified as the most popular ones. We will give names to Start & End station routes by adding new columns"
      ]
    },
    {
      "cell_type": "code",
      "metadata": {
        "id": "y1nQ01ydXW2y",
        "colab_type": "code",
        "colab": {
          "base_uri": "https://localhost:8080/",
          "height": 310
        },
        "outputId": "2e6b901d-8fea-4b10-ab3a-21018dd2b2d4"
      },
      "source": [
        "#A new column with start station code (limited characters identifying the station name)\n",
        "df_pop['Start Code'] = df_pop['Start Station Name'].apply(lambda x : x[0:10])\n",
        "\n",
        "#A new column with end station code (limited characters identifying the station name)\n",
        "df_pop['End Code'] = df_pop['End Station Name'].apply(lambda x : x[0:10])\n",
        "\n",
        "#A new column that shows the route with codes for the bar plots\n",
        "df_pop['Route ID'] = df_pop['Start Code'] + ' - ' + df_pop['End Code']\n",
        "df_pop.tail(5)"
      ],
      "execution_count": null,
      "outputs": [
        {
          "output_type": "execute_result",
          "data": {
            "text/html": [
              "<div>\n",
              "<style scoped>\n",
              "    .dataframe tbody tr th:only-of-type {\n",
              "        vertical-align: middle;\n",
              "    }\n",
              "\n",
              "    .dataframe tbody tr th {\n",
              "        vertical-align: top;\n",
              "    }\n",
              "\n",
              "    .dataframe thead th {\n",
              "        text-align: right;\n",
              "    }\n",
              "</style>\n",
              "<table border=\"1\" class=\"dataframe\">\n",
              "  <thead>\n",
              "    <tr style=\"text-align: right;\">\n",
              "      <th></th>\n",
              "      <th>Count</th>\n",
              "      <th>Start Station Name</th>\n",
              "      <th>End Station Name</th>\n",
              "      <th>Start Code</th>\n",
              "      <th>End Code</th>\n",
              "      <th>Route ID</th>\n",
              "    </tr>\n",
              "  </thead>\n",
              "  <tbody>\n",
              "    <tr>\n",
              "      <th>140</th>\n",
              "      <td>193</td>\n",
              "      <td>Pershing Square NorthPershing Square NorthPers...</td>\n",
              "      <td>E 24 St &amp; Park Ave SE 24 St &amp; Park Ave SE 24 S...</td>\n",
              "      <td>Pershing S</td>\n",
              "      <td>E 24 St &amp;</td>\n",
              "      <td>Pershing S - E 24 St &amp;</td>\n",
              "    </tr>\n",
              "    <tr>\n",
              "      <th>141</th>\n",
              "      <td>204</td>\n",
              "      <td>Pershing Square NorthPershing Square NorthPers...</td>\n",
              "      <td>Broadway &amp; W 32 StBroadway &amp; W 32 StBroadway &amp;...</td>\n",
              "      <td>Pershing S</td>\n",
              "      <td>Broadway &amp;</td>\n",
              "      <td>Pershing S - Broadway &amp;</td>\n",
              "    </tr>\n",
              "    <tr>\n",
              "      <th>142</th>\n",
              "      <td>209</td>\n",
              "      <td>W 21 St &amp; 6 AveW 21 St &amp; 6 AveW 21 St &amp; 6 AveW...</td>\n",
              "      <td>9 Ave &amp; W 22 St9 Ave &amp; W 22 St9 Ave &amp; W 22 St9...</td>\n",
              "      <td>W 21 St &amp;</td>\n",
              "      <td>9 Ave &amp; W</td>\n",
              "      <td>W 21 St &amp;  - 9 Ave &amp; W</td>\n",
              "    </tr>\n",
              "    <tr>\n",
              "      <th>143</th>\n",
              "      <td>227</td>\n",
              "      <td>Greenwich Ave &amp; Charles StGreenwich Ave &amp; Char...</td>\n",
              "      <td>Greenwich Ave &amp; Charles StGreenwich Ave &amp; Char...</td>\n",
              "      <td>Greenwich</td>\n",
              "      <td>Greenwich</td>\n",
              "      <td>Greenwich  - Greenwich</td>\n",
              "    </tr>\n",
              "    <tr>\n",
              "      <th>144</th>\n",
              "      <td>263</td>\n",
              "      <td>E 7 St &amp; Avenue AE 7 St &amp; Avenue AE 7 St &amp; Ave...</td>\n",
              "      <td>Cooper Square &amp; E 7 StCooper Square &amp; E 7 StCo...</td>\n",
              "      <td>E 7 St &amp; A</td>\n",
              "      <td>Cooper Squ</td>\n",
              "      <td>E 7 St &amp; A - Cooper Squ</td>\n",
              "    </tr>\n",
              "  </tbody>\n",
              "</table>\n",
              "</div>"
            ],
            "text/plain": [
              "     Count  ...                 Route ID\n",
              "140    193  ...  Pershing S - E 24 St & \n",
              "141    204  ...  Pershing S - Broadway &\n",
              "142    209  ...  W 21 St &  - 9 Ave & W \n",
              "143    227  ...  Greenwich  - Greenwich \n",
              "144    263  ...  E 7 St & A - Cooper Squ\n",
              "\n",
              "[5 rows x 6 columns]"
            ]
          },
          "metadata": {
            "tags": []
          },
          "execution_count": 42
        }
      ]
    },
    {
      "cell_type": "code",
      "metadata": {
        "id": "IH5hGdWVkvgQ",
        "colab_type": "code",
        "colab": {
          "base_uri": "https://localhost:8080/",
          "height": 310
        },
        "outputId": "b2ffc35d-97a1-48dc-c4d9-c2932eca22c7"
      },
      "source": [
        "#5 Most popular routes along with their frequency stored in dataframe\n",
        "popular_trips_names = df_pop.tail(5)\n",
        "popular_trips_names"
      ],
      "execution_count": null,
      "outputs": [
        {
          "output_type": "execute_result",
          "data": {
            "text/html": [
              "<div>\n",
              "<style scoped>\n",
              "    .dataframe tbody tr th:only-of-type {\n",
              "        vertical-align: middle;\n",
              "    }\n",
              "\n",
              "    .dataframe tbody tr th {\n",
              "        vertical-align: top;\n",
              "    }\n",
              "\n",
              "    .dataframe thead th {\n",
              "        text-align: right;\n",
              "    }\n",
              "</style>\n",
              "<table border=\"1\" class=\"dataframe\">\n",
              "  <thead>\n",
              "    <tr style=\"text-align: right;\">\n",
              "      <th></th>\n",
              "      <th>Count</th>\n",
              "      <th>Start Station Name</th>\n",
              "      <th>End Station Name</th>\n",
              "      <th>Start Code</th>\n",
              "      <th>End Code</th>\n",
              "      <th>Route ID</th>\n",
              "    </tr>\n",
              "  </thead>\n",
              "  <tbody>\n",
              "    <tr>\n",
              "      <th>140</th>\n",
              "      <td>193</td>\n",
              "      <td>Pershing Square NorthPershing Square NorthPers...</td>\n",
              "      <td>E 24 St &amp; Park Ave SE 24 St &amp; Park Ave SE 24 S...</td>\n",
              "      <td>Pershing S</td>\n",
              "      <td>E 24 St &amp;</td>\n",
              "      <td>Pershing S - E 24 St &amp;</td>\n",
              "    </tr>\n",
              "    <tr>\n",
              "      <th>141</th>\n",
              "      <td>204</td>\n",
              "      <td>Pershing Square NorthPershing Square NorthPers...</td>\n",
              "      <td>Broadway &amp; W 32 StBroadway &amp; W 32 StBroadway &amp;...</td>\n",
              "      <td>Pershing S</td>\n",
              "      <td>Broadway &amp;</td>\n",
              "      <td>Pershing S - Broadway &amp;</td>\n",
              "    </tr>\n",
              "    <tr>\n",
              "      <th>142</th>\n",
              "      <td>209</td>\n",
              "      <td>W 21 St &amp; 6 AveW 21 St &amp; 6 AveW 21 St &amp; 6 AveW...</td>\n",
              "      <td>9 Ave &amp; W 22 St9 Ave &amp; W 22 St9 Ave &amp; W 22 St9...</td>\n",
              "      <td>W 21 St &amp;</td>\n",
              "      <td>9 Ave &amp; W</td>\n",
              "      <td>W 21 St &amp;  - 9 Ave &amp; W</td>\n",
              "    </tr>\n",
              "    <tr>\n",
              "      <th>143</th>\n",
              "      <td>227</td>\n",
              "      <td>Greenwich Ave &amp; Charles StGreenwich Ave &amp; Char...</td>\n",
              "      <td>Greenwich Ave &amp; Charles StGreenwich Ave &amp; Char...</td>\n",
              "      <td>Greenwich</td>\n",
              "      <td>Greenwich</td>\n",
              "      <td>Greenwich  - Greenwich</td>\n",
              "    </tr>\n",
              "    <tr>\n",
              "      <th>144</th>\n",
              "      <td>263</td>\n",
              "      <td>E 7 St &amp; Avenue AE 7 St &amp; Avenue AE 7 St &amp; Ave...</td>\n",
              "      <td>Cooper Square &amp; E 7 StCooper Square &amp; E 7 StCo...</td>\n",
              "      <td>E 7 St &amp; A</td>\n",
              "      <td>Cooper Squ</td>\n",
              "      <td>E 7 St &amp; A - Cooper Squ</td>\n",
              "    </tr>\n",
              "  </tbody>\n",
              "</table>\n",
              "</div>"
            ],
            "text/plain": [
              "     Count  ...                 Route ID\n",
              "140    193  ...  Pershing S - E 24 St & \n",
              "141    204  ...  Pershing S - Broadway &\n",
              "142    209  ...  W 21 St &  - 9 Ave & W \n",
              "143    227  ...  Greenwich  - Greenwich \n",
              "144    263  ...  E 7 St & A - Cooper Squ\n",
              "\n",
              "[5 rows x 6 columns]"
            ]
          },
          "metadata": {
            "tags": []
          },
          "execution_count": 43
        }
      ]
    },
    {
      "cell_type": "code",
      "metadata": {
        "id": "EaS1cv6-fgIK",
        "colab_type": "code",
        "colab": {}
      },
      "source": [
        "# Set the font dictionaries (for plot title and axis titles)\n",
        "title_font = {'fontname':'sans-serif', 'size':'18', 'color':'black', 'weight':'normal',\n",
        "  'verticalalignment':'bottom'} # Bottom vertical alignment for more space\n",
        "axis_font = {'fontname':'sans-serif', 'size':'14'}"
      ],
      "execution_count": null,
      "outputs": []
    },
    {
      "cell_type": "code",
      "metadata": {
        "id": "m7_D3lVGcI2a",
        "colab_type": "code",
        "colab": {
          "base_uri": "https://localhost:8080/",
          "height": 416
        },
        "outputId": "564adae9-e510-4787-aa5d-a62c79ce38c3"
      },
      "source": [
        "#Visualizing with Bar Plot\n",
        "plt.bar(popular_trips_names['Route ID'], popular_trips_names['Count'],\n",
        "        color=['cyan', 'green', 'black', 'blue', 'red'],\n",
        "        edgecolor='blue')\n",
        "plt.title('Top 5 Most Popular Trips', **title_font)\n",
        "plt.xlabel('Top Routes Taken', **axis_font)\n",
        "plt.xticks(rotation=70)\n",
        "plt.ylabel('Frequency of Trips', **axis_font)\n",
        "plt.show()"
      ],
      "execution_count": null,
      "outputs": [
        {
          "output_type": "display_data",
          "data": {
            "image/png": "[encoded data removed]",
            "text/plain": [
              "<Figure size 432x288 with 1 Axes>"
            ]
          },
          "metadata": {
            "tags": [],
            "needs_background": "light"
          }
        }
      ]
    },
    {
      "cell_type": "markdown",
      "metadata": {
        "id": "3a4n2nRRF-Zi",
        "colab_type": "text"
      },
      "source": [
        "##**Q4) Rider Performance by Gender and Age based on Avg Trip Distance**\n",
        "\n",
        "*Station to Station - Median Speed (Distance Travelled / Trip Duration)*"
      ]
    },
    {
      "cell_type": "code",
      "metadata": {
        "id": "TT1zWsFRCsJ0",
        "colab_type": "code",
        "colab": {
          "base_uri": "https://localhost:8080/",
          "height": 469
        },
        "outputId": "3ed9114c-8dfd-4973-f56a-56b0de3fef99"
      },
      "source": [
        "df.head()"
      ],
      "execution_count": null,
      "outputs": [
        {
          "output_type": "execute_result",
          "data": {
            "text/html": [
              "<div>\n",
              "<style scoped>\n",
              "    .dataframe tbody tr th:only-of-type {\n",
              "        vertical-align: middle;\n",
              "    }\n",
              "\n",
              "    .dataframe tbody tr th {\n",
              "        vertical-align: top;\n",
              "    }\n",
              "\n",
              "    .dataframe thead th {\n",
              "        text-align: right;\n",
              "    }\n",
              "</style>\n",
              "<table border=\"1\" class=\"dataframe\">\n",
              "  <thead>\n",
              "    <tr style=\"text-align: right;\">\n",
              "      <th></th>\n",
              "      <th>Trip Duration</th>\n",
              "      <th>Start Time</th>\n",
              "      <th>Stop Time</th>\n",
              "      <th>Start Station ID</th>\n",
              "      <th>Start Station Name</th>\n",
              "      <th>Start Station Latitude</th>\n",
              "      <th>Start Station Longitude</th>\n",
              "      <th>End Station ID</th>\n",
              "      <th>End Station Name</th>\n",
              "      <th>End Station Latitude</th>\n",
              "      <th>End Station Longitude</th>\n",
              "      <th>Bike ID</th>\n",
              "      <th>User Type</th>\n",
              "      <th>Birth Year</th>\n",
              "      <th>Gender</th>\n",
              "      <th>Count</th>\n",
              "    </tr>\n",
              "  </thead>\n",
              "  <tbody>\n",
              "    <tr>\n",
              "      <th>0</th>\n",
              "      <td>680</td>\n",
              "      <td>2017-01-01 00:00:21</td>\n",
              "      <td>2017-01-01 00:11:41</td>\n",
              "      <td>3226.0</td>\n",
              "      <td>W 82 St &amp; Central Park West</td>\n",
              "      <td>40.782750</td>\n",
              "      <td>-73.971370</td>\n",
              "      <td>3165.0</td>\n",
              "      <td>Central Park West &amp; W 72 St</td>\n",
              "      <td>40.775794</td>\n",
              "      <td>-73.976206</td>\n",
              "      <td>25542.0</td>\n",
              "      <td>Subscriber</td>\n",
              "      <td>1965.0</td>\n",
              "      <td>2.0</td>\n",
              "      <td>3</td>\n",
              "    </tr>\n",
              "    <tr>\n",
              "      <th>1</th>\n",
              "      <td>1282</td>\n",
              "      <td>2017-01-01 00:00:45</td>\n",
              "      <td>2017-01-01 00:22:08</td>\n",
              "      <td>3263.0</td>\n",
              "      <td>Cooper Square &amp; E 7 St</td>\n",
              "      <td>40.729236</td>\n",
              "      <td>-73.990868</td>\n",
              "      <td>498.0</td>\n",
              "      <td>Broadway &amp; W 32 St</td>\n",
              "      <td>40.748549</td>\n",
              "      <td>-73.988084</td>\n",
              "      <td>21136.0</td>\n",
              "      <td>Subscriber</td>\n",
              "      <td>1987.0</td>\n",
              "      <td>2.0</td>\n",
              "      <td>2</td>\n",
              "    </tr>\n",
              "    <tr>\n",
              "      <th>5</th>\n",
              "      <td>666</td>\n",
              "      <td>2017-01-01 00:01:51</td>\n",
              "      <td>2017-01-01 00:12:57</td>\n",
              "      <td>3163.0</td>\n",
              "      <td>Central Park West &amp; W 68 St</td>\n",
              "      <td>40.773407</td>\n",
              "      <td>-73.977825</td>\n",
              "      <td>3163.0</td>\n",
              "      <td>Central Park West &amp; W 68 St</td>\n",
              "      <td>40.773407</td>\n",
              "      <td>-73.977825</td>\n",
              "      <td>16050.0</td>\n",
              "      <td>Subscriber</td>\n",
              "      <td>2000.0</td>\n",
              "      <td>1.0</td>\n",
              "      <td>7</td>\n",
              "    </tr>\n",
              "    <tr>\n",
              "      <th>6</th>\n",
              "      <td>559</td>\n",
              "      <td>2017-01-01 00:05:00</td>\n",
              "      <td>2017-01-01 00:14:20</td>\n",
              "      <td>499.0</td>\n",
              "      <td>Broadway &amp; W 60 St</td>\n",
              "      <td>40.769155</td>\n",
              "      <td>-73.981918</td>\n",
              "      <td>479.0</td>\n",
              "      <td>9 Ave &amp; W 45 St</td>\n",
              "      <td>40.760193</td>\n",
              "      <td>-73.991255</td>\n",
              "      <td>27294.0</td>\n",
              "      <td>Subscriber</td>\n",
              "      <td>1973.0</td>\n",
              "      <td>1.0</td>\n",
              "      <td>26</td>\n",
              "    </tr>\n",
              "    <tr>\n",
              "      <th>7</th>\n",
              "      <td>826</td>\n",
              "      <td>2017-01-01 00:05:37</td>\n",
              "      <td>2017-01-01 00:19:24</td>\n",
              "      <td>362.0</td>\n",
              "      <td>Broadway &amp; W 37 St</td>\n",
              "      <td>40.751726</td>\n",
              "      <td>-73.987535</td>\n",
              "      <td>445.0</td>\n",
              "      <td>E 10 St &amp; Avenue A</td>\n",
              "      <td>40.727408</td>\n",
              "      <td>-73.981420</td>\n",
              "      <td>23288.0</td>\n",
              "      <td>Subscriber</td>\n",
              "      <td>1977.0</td>\n",
              "      <td>2.0</td>\n",
              "      <td>2</td>\n",
              "    </tr>\n",
              "  </tbody>\n",
              "</table>\n",
              "</div>"
            ],
            "text/plain": [
              "   Trip Duration           Start Time  ... Gender  Count\n",
              "0            680  2017-01-01 00:00:21  ...    2.0      3\n",
              "1           1282  2017-01-01 00:00:45  ...    2.0      2\n",
              "5            666  2017-01-01 00:01:51  ...    1.0      7\n",
              "6            559  2017-01-01 00:05:00  ...    1.0     26\n",
              "7            826  2017-01-01 00:05:37  ...    2.0      2\n",
              "\n",
              "[5 rows x 16 columns]"
            ]
          },
          "metadata": {
            "tags": []
          },
          "execution_count": 46
        }
      ]
    },
    {
      "cell_type": "markdown",
      "metadata": {
        "id": "BL0tGigUPtSs",
        "colab_type": "text"
      },
      "source": [
        "####**Calculating Distance Travelled**\n",
        "\n",
        "*Using Coordinates Provided*"
      ]
    },
    {
      "cell_type": "code",
      "metadata": {
        "id": "ng_jzZF_VUSi",
        "colab_type": "code",
        "colab": {}
      },
      "source": [
        "#Adding Distance Travelled using Latitude and Longitudes\n",
        "radius = 6373 #Earth's Radius in units km\n",
        "def DistanceTravelled(df):\n",
        "  lat1 = df['Start Station Latitude']\n",
        "  long1 = df['Start Station Longitude']\n",
        "  lat2 = df['End Station Latitude']\n",
        "  long2 = df['End Station Longitude']\n",
        "\n",
        "  dlat = math.radians(lat2-lat1)\n",
        "  dlong = math.radians(long2-long1)\n",
        "  a = math.sin(dlat/2) * math.sin(dlat/2) + math.cos(math.radians(lat1)) \\\n",
        "        * math.cos(math.radians(lat2)) * math.sin(dlong/2) * math.sin(dlong/2)\n",
        "  c = 2 * math.atan2(math.sqrt(a), math.sqrt(1-a))\n",
        "  d = (radius * c)*1000\n",
        "\n",
        "  return d"
      ],
      "execution_count": null,
      "outputs": []
    },
    {
      "cell_type": "code",
      "metadata": {
        "id": "68IGMZBENhWx",
        "colab_type": "code",
        "colab": {
          "base_uri": "https://localhost:8080/",
          "height": 469
        },
        "outputId": "e34c13a7-a6f6-474d-a085-3fd333e81cf0"
      },
      "source": [
        "df['Distance Travelled (Meters)'] = df.apply(DistanceTravelled, axis = 1)\n",
        "df['Median Speed (m/s)'] = (df['Distance Travelled (Meters)']/df['Trip Duration'])\n",
        "df.head()"
      ],
      "execution_count": null,
      "outputs": [
        {
          "output_type": "execute_result",
          "data": {
            "text/html": [
              "<div>\n",
              "<style scoped>\n",
              "    .dataframe tbody tr th:only-of-type {\n",
              "        vertical-align: middle;\n",
              "    }\n",
              "\n",
              "    .dataframe tbody tr th {\n",
              "        vertical-align: top;\n",
              "    }\n",
              "\n",
              "    .dataframe thead th {\n",
              "        text-align: right;\n",
              "    }\n",
              "</style>\n",
              "<table border=\"1\" class=\"dataframe\">\n",
              "  <thead>\n",
              "    <tr style=\"text-align: right;\">\n",
              "      <th></th>\n",
              "      <th>Trip Duration</th>\n",
              "      <th>Start Time</th>\n",
              "      <th>Stop Time</th>\n",
              "      <th>Start Station ID</th>\n",
              "      <th>Start Station Name</th>\n",
              "      <th>Start Station Latitude</th>\n",
              "      <th>Start Station Longitude</th>\n",
              "      <th>End Station ID</th>\n",
              "      <th>End Station Name</th>\n",
              "      <th>End Station Latitude</th>\n",
              "      <th>End Station Longitude</th>\n",
              "      <th>Bike ID</th>\n",
              "      <th>User Type</th>\n",
              "      <th>Birth Year</th>\n",
              "      <th>Gender</th>\n",
              "      <th>Count</th>\n",
              "      <th>Distance Travelled (Meters)</th>\n",
              "      <th>Median Speed (m/s)</th>\n",
              "    </tr>\n",
              "  </thead>\n",
              "  <tbody>\n",
              "    <tr>\n",
              "      <th>0</th>\n",
              "      <td>680</td>\n",
              "      <td>2017-01-01 00:00:21</td>\n",
              "      <td>2017-01-01 00:11:41</td>\n",
              "      <td>3226.0</td>\n",
              "      <td>W 82 St &amp; Central Park West</td>\n",
              "      <td>40.782750</td>\n",
              "      <td>-73.971370</td>\n",
              "      <td>3165.0</td>\n",
              "      <td>Central Park West &amp; W 72 St</td>\n",
              "      <td>40.775794</td>\n",
              "      <td>-73.976206</td>\n",
              "      <td>25542.0</td>\n",
              "      <td>Subscriber</td>\n",
              "      <td>1965.0</td>\n",
              "      <td>2.0</td>\n",
              "      <td>3</td>\n",
              "      <td>874.394902</td>\n",
              "      <td>1.285875</td>\n",
              "    </tr>\n",
              "    <tr>\n",
              "      <th>1</th>\n",
              "      <td>1282</td>\n",
              "      <td>2017-01-01 00:00:45</td>\n",
              "      <td>2017-01-01 00:22:08</td>\n",
              "      <td>3263.0</td>\n",
              "      <td>Cooper Square &amp; E 7 St</td>\n",
              "      <td>40.729236</td>\n",
              "      <td>-73.990868</td>\n",
              "      <td>498.0</td>\n",
              "      <td>Broadway &amp; W 32 St</td>\n",
              "      <td>40.748549</td>\n",
              "      <td>-73.988084</td>\n",
              "      <td>21136.0</td>\n",
              "      <td>Subscriber</td>\n",
              "      <td>1987.0</td>\n",
              "      <td>2.0</td>\n",
              "      <td>2</td>\n",
              "      <td>2160.858819</td>\n",
              "      <td>1.685537</td>\n",
              "    </tr>\n",
              "    <tr>\n",
              "      <th>5</th>\n",
              "      <td>666</td>\n",
              "      <td>2017-01-01 00:01:51</td>\n",
              "      <td>2017-01-01 00:12:57</td>\n",
              "      <td>3163.0</td>\n",
              "      <td>Central Park West &amp; W 68 St</td>\n",
              "      <td>40.773407</td>\n",
              "      <td>-73.977825</td>\n",
              "      <td>3163.0</td>\n",
              "      <td>Central Park West &amp; W 68 St</td>\n",
              "      <td>40.773407</td>\n",
              "      <td>-73.977825</td>\n",
              "      <td>16050.0</td>\n",
              "      <td>Subscriber</td>\n",
              "      <td>2000.0</td>\n",
              "      <td>1.0</td>\n",
              "      <td>7</td>\n",
              "      <td>0.000000</td>\n",
              "      <td>0.000000</td>\n",
              "    </tr>\n",
              "    <tr>\n",
              "      <th>6</th>\n",
              "      <td>559</td>\n",
              "      <td>2017-01-01 00:05:00</td>\n",
              "      <td>2017-01-01 00:14:20</td>\n",
              "      <td>499.0</td>\n",
              "      <td>Broadway &amp; W 60 St</td>\n",
              "      <td>40.769155</td>\n",
              "      <td>-73.981918</td>\n",
              "      <td>479.0</td>\n",
              "      <td>9 Ave &amp; W 45 St</td>\n",
              "      <td>40.760193</td>\n",
              "      <td>-73.991255</td>\n",
              "      <td>27294.0</td>\n",
              "      <td>Subscriber</td>\n",
              "      <td>1973.0</td>\n",
              "      <td>1.0</td>\n",
              "      <td>26</td>\n",
              "      <td>1269.844833</td>\n",
              "      <td>2.271637</td>\n",
              "    </tr>\n",
              "    <tr>\n",
              "      <th>7</th>\n",
              "      <td>826</td>\n",
              "      <td>2017-01-01 00:05:37</td>\n",
              "      <td>2017-01-01 00:19:24</td>\n",
              "      <td>362.0</td>\n",
              "      <td>Broadway &amp; W 37 St</td>\n",
              "      <td>40.751726</td>\n",
              "      <td>-73.987535</td>\n",
              "      <td>445.0</td>\n",
              "      <td>E 10 St &amp; Avenue A</td>\n",
              "      <td>40.727408</td>\n",
              "      <td>-73.981420</td>\n",
              "      <td>23288.0</td>\n",
              "      <td>Subscriber</td>\n",
              "      <td>1977.0</td>\n",
              "      <td>2.0</td>\n",
              "      <td>2</td>\n",
              "      <td>2753.588103</td>\n",
              "      <td>3.333642</td>\n",
              "    </tr>\n",
              "  </tbody>\n",
              "</table>\n",
              "</div>"
            ],
            "text/plain": [
              "   Trip Duration  ... Median Speed (m/s)\n",
              "0            680  ...           1.285875\n",
              "1           1282  ...           1.685537\n",
              "5            666  ...           0.000000\n",
              "6            559  ...           2.271637\n",
              "7            826  ...           3.333642\n",
              "\n",
              "[5 rows x 18 columns]"
            ]
          },
          "metadata": {
            "tags": []
          },
          "execution_count": 48
        }
      ]
    },
    {
      "cell_type": "code",
      "metadata": {
        "id": "tP9mEhdVmR-A",
        "colab_type": "code",
        "colab": {
          "base_uri": "https://localhost:8080/",
          "height": 225
        },
        "outputId": "96e0b371-07d0-434f-f0a5-5ec45881de67"
      },
      "source": [
        "df['Distance Travelled (Meters)'].value_counts()"
      ],
      "execution_count": null,
      "outputs": [
        {
          "output_type": "execute_result",
          "data": {
            "text/plain": [
              "0.000000       4508\n",
              "683.983352      376\n",
              "400.234484      353\n",
              "1401.259034     331\n",
              "1429.416162     326\n",
              "               ... \n",
              "2233.945739       1\n",
              "3547.458040       1\n",
              "2469.618435       1\n",
              "6489.115184       1\n",
              "2462.665626       1\n",
              "Name: Distance Travelled (Meters), Length: 52029, dtype: int64"
            ]
          },
          "metadata": {
            "tags": []
          },
          "execution_count": 49
        }
      ]
    },
    {
      "cell_type": "markdown",
      "metadata": {
        "id": "1Der9n_dKfil",
        "colab_type": "text"
      },
      "source": [
        "####**EDA on Circular Trips Travelled**"
      ]
    },
    {
      "cell_type": "markdown",
      "metadata": {
        "id": "6yGA2EjbBA_N",
        "colab_type": "text"
      },
      "source": [
        "We notice that of the different distances travelled, we have a vast majority of those as **zero meters**, meaning the Start & the End Station for those journeys were the same. These **'circular trips'** are very much possible in real life scenario! These could include cases where bikes were hired for a prolonged journey and returned at the same spot. But previusly, our function defaults those trips to have travelled 0 distance if only the trip duration too was minimal. \n",
        "\n",
        "But in these cases, distance and speed both will have 0 values and the trip duration will certainly be more than 90 seconds. This will be an issue when during feature pre-processing, we subject these columns through log transformation or scaling."
      ]
    },
    {
      "cell_type": "code",
      "metadata": {
        "id": "k5IRLD7kJ45Q",
        "colab_type": "code",
        "colab": {
          "base_uri": "https://localhost:8080/",
          "height": 206
        },
        "outputId": "b3b88aab-5bd9-4599-81e6-f98601a2f63e"
      },
      "source": [
        "#Lets take a look at the Time Durations of trips that have 0 distance travelled\n",
        "df.loc[df['Distance Travelled (Meters)'] == 0.00, 'Trip Duration']\n",
        "start_end_same = df.loc[df['Distance Travelled (Meters)'] == 0.00,\n",
        "                        'Trip Duration'].iloc[0:]\n",
        "start_end_same = pd.DataFrame(data = start_end_same, index = None)\n",
        "start_end_same.head()"
      ],
      "execution_count": null,
      "outputs": [
        {
          "output_type": "execute_result",
          "data": {
            "text/html": [
              "<div>\n",
              "<style scoped>\n",
              "    .dataframe tbody tr th:only-of-type {\n",
              "        vertical-align: middle;\n",
              "    }\n",
              "\n",
              "    .dataframe tbody tr th {\n",
              "        vertical-align: top;\n",
              "    }\n",
              "\n",
              "    .dataframe thead th {\n",
              "        text-align: right;\n",
              "    }\n",
              "</style>\n",
              "<table border=\"1\" class=\"dataframe\">\n",
              "  <thead>\n",
              "    <tr style=\"text-align: right;\">\n",
              "      <th></th>\n",
              "      <th>Trip Duration</th>\n",
              "    </tr>\n",
              "  </thead>\n",
              "  <tbody>\n",
              "    <tr>\n",
              "      <th>5</th>\n",
              "      <td>666</td>\n",
              "    </tr>\n",
              "    <tr>\n",
              "      <th>22</th>\n",
              "      <td>570</td>\n",
              "    </tr>\n",
              "    <tr>\n",
              "      <th>134</th>\n",
              "      <td>1331</td>\n",
              "    </tr>\n",
              "    <tr>\n",
              "      <th>283</th>\n",
              "      <td>264</td>\n",
              "    </tr>\n",
              "    <tr>\n",
              "      <th>289</th>\n",
              "      <td>150</td>\n",
              "    </tr>\n",
              "  </tbody>\n",
              "</table>\n",
              "</div>"
            ],
            "text/plain": [
              "     Trip Duration\n",
              "5              666\n",
              "22             570\n",
              "134           1331\n",
              "283            264\n",
              "289            150"
            ]
          },
          "metadata": {
            "tags": []
          },
          "execution_count": 50
        }
      ]
    },
    {
      "cell_type": "code",
      "metadata": {
        "id": "K2XP5PTjLYrq",
        "colab_type": "code",
        "colab": {
          "base_uri": "https://localhost:8080/",
          "height": 34
        },
        "outputId": "4284c710-cbf4-4fec-f09e-8a85f2a2cebd"
      },
      "source": [
        "start_end_same.shape[0]"
      ],
      "execution_count": null,
      "outputs": [
        {
          "output_type": "execute_result",
          "data": {
            "text/plain": [
              "4508"
            ]
          },
          "metadata": {
            "tags": []
          },
          "execution_count": 51
        }
      ]
    },
    {
      "cell_type": "code",
      "metadata": {
        "id": "0-H-Xj3wLdnd",
        "colab_type": "code",
        "colab": {
          "base_uri": "https://localhost:8080/",
          "height": 300
        },
        "outputId": "34a9a228-f5e5-4d17-b33a-95b76d644260"
      },
      "source": [
        "start_end_same.describe()"
      ],
      "execution_count": null,
      "outputs": [
        {
          "output_type": "execute_result",
          "data": {
            "text/html": [
              "<div>\n",
              "<style scoped>\n",
              "    .dataframe tbody tr th:only-of-type {\n",
              "        vertical-align: middle;\n",
              "    }\n",
              "\n",
              "    .dataframe tbody tr th {\n",
              "        vertical-align: top;\n",
              "    }\n",
              "\n",
              "    .dataframe thead th {\n",
              "        text-align: right;\n",
              "    }\n",
              "</style>\n",
              "<table border=\"1\" class=\"dataframe\">\n",
              "  <thead>\n",
              "    <tr style=\"text-align: right;\">\n",
              "      <th></th>\n",
              "      <th>Trip Duration</th>\n",
              "    </tr>\n",
              "  </thead>\n",
              "  <tbody>\n",
              "    <tr>\n",
              "      <th>count</th>\n",
              "      <td>4508.000000</td>\n",
              "    </tr>\n",
              "    <tr>\n",
              "      <th>mean</th>\n",
              "      <td>1127.587622</td>\n",
              "    </tr>\n",
              "    <tr>\n",
              "      <th>std</th>\n",
              "      <td>968.943583</td>\n",
              "    </tr>\n",
              "    <tr>\n",
              "      <th>min</th>\n",
              "      <td>90.000000</td>\n",
              "    </tr>\n",
              "    <tr>\n",
              "      <th>25%</th>\n",
              "      <td>451.000000</td>\n",
              "    </tr>\n",
              "    <tr>\n",
              "      <th>50%</th>\n",
              "      <td>905.500000</td>\n",
              "    </tr>\n",
              "    <tr>\n",
              "      <th>75%</th>\n",
              "      <td>1548.000000</td>\n",
              "    </tr>\n",
              "    <tr>\n",
              "      <th>max</th>\n",
              "      <td>9264.000000</td>\n",
              "    </tr>\n",
              "  </tbody>\n",
              "</table>\n",
              "</div>"
            ],
            "text/plain": [
              "       Trip Duration\n",
              "count    4508.000000\n",
              "mean     1127.587622\n",
              "std       968.943583\n",
              "min        90.000000\n",
              "25%       451.000000\n",
              "50%       905.500000\n",
              "75%      1548.000000\n",
              "max      9264.000000"
            ]
          },
          "metadata": {
            "tags": []
          },
          "execution_count": 52
        }
      ]
    },
    {
      "cell_type": "markdown",
      "metadata": {
        "id": "5wcRQQnBM3iI",
        "colab_type": "text"
      },
      "source": [
        "It is important to decide what should be done with these values as they are significant enough to make a difference to our target variable 'Time Duration'. Can we cannot ignore them given that their distribution is not uniform (mean & 50% are not similar)? Since out goal is to be able to predict how much time it will take for a rider to get to different places, realistically speaking, we'd like to help those who want to plan their journey between **two distinct points**\n",
        "\n",
        "Besides, this data is irrelevant for predictive modelling in this case. Someone on a circular trip can obviously be assumed to know the trip duration and doesn't need our model to tell them that. Hence, we can safely decide to **drop these values.**"
      ]
    },
    {
      "cell_type": "markdown",
      "metadata": {
        "id": "05FAm8huPFkD",
        "colab_type": "text"
      },
      "source": [
        "####**EDA for '0.00' Coordinates**"
      ]
    },
    {
      "cell_type": "markdown",
      "metadata": {
        "id": "YhbZd1kRPVpB",
        "colab_type": "text"
      },
      "source": [
        "We have some Start Coordinates as (0.00,0.00). These are trips which were taken away for repair or for other purposes. These should be dropped."
      ]
    },
    {
      "cell_type": "code",
      "metadata": {
        "id": "W_Q7ZGvbN3r5",
        "colab_type": "code",
        "colab": {
          "base_uri": "https://localhost:8080/",
          "height": 52
        },
        "outputId": "63c1a179-a714-4c6d-f3aa-bb7286420095"
      },
      "source": [
        "print(df.loc[df['Start Station Latitude'] == 0.00, 'Distance Travelled (Meters)'])\n",
        "print(df.loc[df['Start Station Longitude'] == 0.00, 'Distance Travelled (Meters)'])"
      ],
      "execution_count": null,
      "outputs": [
        {
          "output_type": "stream",
          "text": [
            "Series([], Name: Distance Travelled (Meters), dtype: float64)\n",
            "Series([], Name: Distance Travelled (Meters), dtype: float64)\n"
          ],
          "name": "stdout"
        }
      ]
    },
    {
      "cell_type": "code",
      "metadata": {
        "id": "B3hJj-ZAOqHm",
        "colab_type": "code",
        "colab": {
          "base_uri": "https://localhost:8080/",
          "height": 52
        },
        "outputId": "c6410961-6f6a-46d4-e9e7-0ca15e65aa66"
      },
      "source": [
        "print(df.loc[df['End Station Latitude'] == 0.00, 'Distance Travelled (Meters)'])\n",
        "print(df.loc[df['End Station Longitude'] == 0.00, 'Distance Travelled (Meters)'])"
      ],
      "execution_count": null,
      "outputs": [
        {
          "output_type": "stream",
          "text": [
            "Series([], Name: Distance Travelled (Meters), dtype: float64)\n",
            "Series([], Name: Distance Travelled (Meters), dtype: float64)\n"
          ],
          "name": "stdout"
        }
      ]
    },
    {
      "cell_type": "code",
      "metadata": {
        "id": "SAFx6GnaNp9y",
        "colab_type": "code",
        "colab": {
          "base_uri": "https://localhost:8080/",
          "height": 34
        },
        "outputId": "e74dffc5-5fd7-44fc-cb58-5055fcfb1499"
      },
      "source": [
        "#Dropping rows where distance & speed = 0\n",
        "df = df[df['Distance Travelled (Meters)'] !=0]\n",
        "df.shape"
      ],
      "execution_count": null,
      "outputs": [
        {
          "output_type": "execute_result",
          "data": {
            "text/plain": [
              "(428662, 18)"
            ]
          },
          "metadata": {
            "tags": []
          },
          "execution_count": 55
        }
      ]
    },
    {
      "cell_type": "markdown",
      "metadata": {
        "id": "BHdcnm58aXnA",
        "colab_type": "text"
      },
      "source": [
        "####**Rider Performance**\n",
        "\n",
        "*Based on Gender, Age, Distance and Speed*"
      ]
    },
    {
      "cell_type": "code",
      "metadata": {
        "id": "Dvb1G0XVbkxH",
        "colab_type": "code",
        "colab": {}
      },
      "source": [
        "#Adding a new column 'Age'\n",
        "df['Age'] = (2020 - df['Birth Year'])"
      ],
      "execution_count": null,
      "outputs": []
    },
    {
      "cell_type": "code",
      "metadata": {
        "id": "X2SL7gbeZm2u",
        "colab_type": "code",
        "colab": {
          "base_uri": "https://localhost:8080/",
          "height": 225
        },
        "outputId": "25ebd926-a379-4d32-b640-6d51d2105681"
      },
      "source": [
        "df.Age.sort_values(ascending=False)"
      ],
      "execution_count": null,
      "outputs": [
        {
          "output_type": "execute_result",
          "data": {
            "text/plain": [
              "299171    80.0\n",
              "180750    80.0\n",
              "186433    80.0\n",
              "349816    80.0\n",
              "338531    80.0\n",
              "          ... \n",
              "319846    20.0\n",
              "174561    20.0\n",
              "159749    20.0\n",
              "174601    20.0\n",
              "178723    20.0\n",
              "Name: Age, Length: 428662, dtype: float64"
            ]
          },
          "metadata": {
            "tags": []
          },
          "execution_count": 57
        }
      ]
    },
    {
      "cell_type": "markdown",
      "metadata": {
        "id": "0JGU8nyJWUwF",
        "colab_type": "text"
      },
      "source": [
        "#####**EDA for Rider Age**"
      ]
    },
    {
      "cell_type": "code",
      "metadata": {
        "id": "gc16_fGyVnkT",
        "colab_type": "code",
        "colab": {
          "base_uri": "https://localhost:8080/",
          "height": 34
        },
        "outputId": "927f5c8a-c013-4d2b-8f78-3c7c6b2e99fe"
      },
      "source": [
        "#Checking number of trips made by really old people\n",
        "df['Age'][(df['Age'] >= 75)&(df['Age'] <= 80)].count()"
      ],
      "execution_count": null,
      "outputs": [
        {
          "output_type": "execute_result",
          "data": {
            "text/plain": [
              "1674"
            ]
          },
          "metadata": {
            "tags": []
          },
          "execution_count": 58
        }
      ]
    },
    {
      "cell_type": "markdown",
      "metadata": {
        "id": "IeLr_XV-WY3d",
        "colab_type": "text"
      },
      "source": [
        "It is normal for a few senior citizens to cycle, however, the existing dataset has around **2700+ cycle trips from people aged between 75 & 80** alone!\n",
        "\n",
        "Although this is very subjective, but we'd like to eliminate as much false data as possible by putting a generous cap at 65 years of age and under."
      ]
    },
    {
      "cell_type": "code",
      "metadata": {
        "id": "ECcC2eBUcGKM",
        "colab_type": "code",
        "colab": {
          "base_uri": "https://localhost:8080/",
          "height": 34
        },
        "outputId": "43e94d83-9f7b-45f6-c23f-8e02fc58cff6"
      },
      "source": [
        "df['Age'].nunique()"
      ],
      "execution_count": null,
      "outputs": [
        {
          "output_type": "execute_result",
          "data": {
            "text/plain": [
              "61"
            ]
          },
          "metadata": {
            "tags": []
          },
          "execution_count": 59
        }
      ]
    },
    {
      "cell_type": "code",
      "metadata": {
        "id": "dqNB08sVYRjK",
        "colab_type": "code",
        "colab": {
          "base_uri": "https://localhost:8080/",
          "height": 206
        },
        "outputId": "28627770-2440-4ee3-f5e7-cba57cd0f54c"
      },
      "source": [
        "#Checking the trip durations made by these old people\n",
        "df_age = pd.DataFrame()\n",
        "df_age = df.groupby([\"Age\"]).size().reset_index(name=\"Number of Trips\")\n",
        "df_age = df_age.sort_values(\"Number of Trips\", ascending = False)\n",
        "df_age.head()"
      ],
      "execution_count": null,
      "outputs": [
        {
          "output_type": "execute_result",
          "data": {
            "text/html": [
              "<div>\n",
              "<style scoped>\n",
              "    .dataframe tbody tr th:only-of-type {\n",
              "        vertical-align: middle;\n",
              "    }\n",
              "\n",
              "    .dataframe tbody tr th {\n",
              "        vertical-align: top;\n",
              "    }\n",
              "\n",
              "    .dataframe thead th {\n",
              "        text-align: right;\n",
              "    }\n",
              "</style>\n",
              "<table border=\"1\" class=\"dataframe\">\n",
              "  <thead>\n",
              "    <tr style=\"text-align: right;\">\n",
              "      <th></th>\n",
              "      <th>Age</th>\n",
              "      <th>Number of Trips</th>\n",
              "    </tr>\n",
              "  </thead>\n",
              "  <tbody>\n",
              "    <tr>\n",
              "      <th>15</th>\n",
              "      <td>35.0</td>\n",
              "      <td>16704</td>\n",
              "    </tr>\n",
              "    <tr>\n",
              "      <th>14</th>\n",
              "      <td>34.0</td>\n",
              "      <td>16185</td>\n",
              "    </tr>\n",
              "    <tr>\n",
              "      <th>12</th>\n",
              "      <td>32.0</td>\n",
              "      <td>16133</td>\n",
              "    </tr>\n",
              "    <tr>\n",
              "      <th>11</th>\n",
              "      <td>31.0</td>\n",
              "      <td>15732</td>\n",
              "    </tr>\n",
              "    <tr>\n",
              "      <th>16</th>\n",
              "      <td>36.0</td>\n",
              "      <td>15611</td>\n",
              "    </tr>\n",
              "  </tbody>\n",
              "</table>\n",
              "</div>"
            ],
            "text/plain": [
              "     Age  Number of Trips\n",
              "15  35.0            16704\n",
              "14  34.0            16185\n",
              "12  32.0            16133\n",
              "11  31.0            15732\n",
              "16  36.0            15611"
            ]
          },
          "metadata": {
            "tags": []
          },
          "execution_count": 60
        }
      ]
    },
    {
      "cell_type": "code",
      "metadata": {
        "id": "fujlVArqb3tu",
        "colab_type": "code",
        "colab": {
          "base_uri": "https://localhost:8080/",
          "height": 551
        },
        "outputId": "2c38d047-a842-412f-edb4-d5aefef40749"
      },
      "source": [
        "#Trips made by poeple between ages 70 and 80\n",
        "#df_age[(df_age['Age'] >= 70)&(df_age['Age'] <= 80)]\n",
        "df_age[(df_age['Age'] >= 65)]"
      ],
      "execution_count": null,
      "outputs": [
        {
          "output_type": "execute_result",
          "data": {
            "text/html": [
              "<div>\n",
              "<style scoped>\n",
              "    .dataframe tbody tr th:only-of-type {\n",
              "        vertical-align: middle;\n",
              "    }\n",
              "\n",
              "    .dataframe tbody tr th {\n",
              "        vertical-align: top;\n",
              "    }\n",
              "\n",
              "    .dataframe thead th {\n",
              "        text-align: right;\n",
              "    }\n",
              "</style>\n",
              "<table border=\"1\" class=\"dataframe\">\n",
              "  <thead>\n",
              "    <tr style=\"text-align: right;\">\n",
              "      <th></th>\n",
              "      <th>Age</th>\n",
              "      <th>Number of Trips</th>\n",
              "    </tr>\n",
              "  </thead>\n",
              "  <tbody>\n",
              "    <tr>\n",
              "      <th>45</th>\n",
              "      <td>65.0</td>\n",
              "      <td>3249</td>\n",
              "    </tr>\n",
              "    <tr>\n",
              "      <th>47</th>\n",
              "      <td>67.0</td>\n",
              "      <td>3220</td>\n",
              "    </tr>\n",
              "    <tr>\n",
              "      <th>46</th>\n",
              "      <td>66.0</td>\n",
              "      <td>3006</td>\n",
              "    </tr>\n",
              "    <tr>\n",
              "      <th>48</th>\n",
              "      <td>68.0</td>\n",
              "      <td>1914</td>\n",
              "    </tr>\n",
              "    <tr>\n",
              "      <th>49</th>\n",
              "      <td>69.0</td>\n",
              "      <td>1744</td>\n",
              "    </tr>\n",
              "    <tr>\n",
              "      <th>50</th>\n",
              "      <td>70.0</td>\n",
              "      <td>1231</td>\n",
              "    </tr>\n",
              "    <tr>\n",
              "      <th>51</th>\n",
              "      <td>71.0</td>\n",
              "      <td>1122</td>\n",
              "    </tr>\n",
              "    <tr>\n",
              "      <th>52</th>\n",
              "      <td>72.0</td>\n",
              "      <td>962</td>\n",
              "    </tr>\n",
              "    <tr>\n",
              "      <th>53</th>\n",
              "      <td>73.0</td>\n",
              "      <td>832</td>\n",
              "    </tr>\n",
              "    <tr>\n",
              "      <th>54</th>\n",
              "      <td>74.0</td>\n",
              "      <td>746</td>\n",
              "    </tr>\n",
              "    <tr>\n",
              "      <th>55</th>\n",
              "      <td>75.0</td>\n",
              "      <td>348</td>\n",
              "    </tr>\n",
              "    <tr>\n",
              "      <th>58</th>\n",
              "      <td>78.0</td>\n",
              "      <td>315</td>\n",
              "    </tr>\n",
              "    <tr>\n",
              "      <th>56</th>\n",
              "      <td>76.0</td>\n",
              "      <td>284</td>\n",
              "    </tr>\n",
              "    <tr>\n",
              "      <th>59</th>\n",
              "      <td>79.0</td>\n",
              "      <td>284</td>\n",
              "    </tr>\n",
              "    <tr>\n",
              "      <th>57</th>\n",
              "      <td>77.0</td>\n",
              "      <td>249</td>\n",
              "    </tr>\n",
              "    <tr>\n",
              "      <th>60</th>\n",
              "      <td>80.0</td>\n",
              "      <td>194</td>\n",
              "    </tr>\n",
              "  </tbody>\n",
              "</table>\n",
              "</div>"
            ],
            "text/plain": [
              "     Age  Number of Trips\n",
              "45  65.0             3249\n",
              "47  67.0             3220\n",
              "46  66.0             3006\n",
              "48  68.0             1914\n",
              "49  69.0             1744\n",
              "50  70.0             1231\n",
              "51  71.0             1122\n",
              "52  72.0              962\n",
              "53  73.0              832\n",
              "54  74.0              746\n",
              "55  75.0              348\n",
              "58  78.0              315\n",
              "56  76.0              284\n",
              "59  79.0              284\n",
              "57  77.0              249\n",
              "60  80.0              194"
            ]
          },
          "metadata": {
            "tags": []
          },
          "execution_count": 61
        }
      ]
    },
    {
      "cell_type": "code",
      "metadata": {
        "id": "OvimPloJb3zr",
        "colab_type": "code",
        "colab": {}
      },
      "source": [
        "#Removing Trips made by people over 65 years of age\n",
        "df = df.drop(df.index[(df['Age']>65)])"
      ],
      "execution_count": null,
      "outputs": []
    },
    {
      "cell_type": "markdown",
      "metadata": {
        "id": "AtdDPaW1fC7m",
        "colab_type": "text"
      },
      "source": [
        "#####**Visualization by Pivot Tables**"
      ]
    },
    {
      "cell_type": "code",
      "metadata": {
        "id": "Lr9s8ej3cu02",
        "colab_type": "code",
        "colab": {
          "base_uri": "https://localhost:8080/",
          "height": 34
        },
        "outputId": "f50b4890-2e81-43ea-d19a-7c12e3007809"
      },
      "source": [
        "#Making sure that we have atleast 3 kinds of genders mentioned\n",
        "df.Gender.unique()"
      ],
      "execution_count": null,
      "outputs": [
        {
          "output_type": "execute_result",
          "data": {
            "text/plain": [
              "array([2., 1., 0.])"
            ]
          },
          "metadata": {
            "tags": []
          },
          "execution_count": 63
        }
      ]
    },
    {
      "cell_type": "markdown",
      "metadata": {
        "id": "dwO8WZM4l5K0",
        "colab_type": "text"
      },
      "source": [
        "Some of the rows in 'Unknown' gender contain missing values that spoils the visual. We can impute these values, but given their proportion, the information gain would be negligible. *So it is better to remove the Unknown Gender for the purpose of this part and only visualize data for Male and Female.*"
      ]
    },
    {
      "cell_type": "code",
      "metadata": {
        "id": "js9bxmZ6dOXn",
        "colab_type": "code",
        "colab": {}
      },
      "source": [
        "#Grouping Data as per gender and age with distance & speed\n",
        "df_dist_perf = df[['Gender', 'Age', 'Distance Travelled (Meters)']]\n",
        "df_dist_perf = df_dist_perf.drop(df_dist_perf.index[(df_dist_perf['Gender'] == 0)])\n",
        "\n",
        "df_speed_perf = df[['Gender', 'Age', 'Median Speed (m/s)']]\n",
        "df_speed_perf = df_speed_perf.drop(df_speed_perf.index[(df_speed_perf['Gender'] == 0)])\n",
        "\n",
        "df_dist_perf = df_dist_perf.groupby(['Gender','Age'], as_index = False).mean().fillna(0)\n",
        "df_speed_perf = df_speed_perf.groupby(['Gender','Age'], as_index = False).mean().fillna(0)"
      ],
      "execution_count": null,
      "outputs": []
    },
    {
      "cell_type": "code",
      "metadata": {
        "id": "Qmx0RNBvemoW",
        "colab_type": "code",
        "colab": {
          "base_uri": "https://localhost:8080/",
          "height": 426
        },
        "outputId": "9e1a1502-c2bc-435b-9933-6af94e62ade8"
      },
      "source": [
        "#Performance by Distance Travelled (Pivot Table)\n",
        "dist_perf_pivot = df_dist_perf.pivot(index = 'Age', columns = 'Gender').fillna(0)\n",
        "dist_perf_pivot.head(10)"
      ],
      "execution_count": null,
      "outputs": [
        {
          "output_type": "execute_result",
          "data": {
            "text/html": [
              "<div>\n",
              "<style scoped>\n",
              "    .dataframe tbody tr th:only-of-type {\n",
              "        vertical-align: middle;\n",
              "    }\n",
              "\n",
              "    .dataframe tbody tr th {\n",
              "        vertical-align: top;\n",
              "    }\n",
              "\n",
              "    .dataframe thead tr th {\n",
              "        text-align: left;\n",
              "    }\n",
              "\n",
              "    .dataframe thead tr:last-of-type th {\n",
              "        text-align: right;\n",
              "    }\n",
              "</style>\n",
              "<table border=\"1\" class=\"dataframe\">\n",
              "  <thead>\n",
              "    <tr>\n",
              "      <th></th>\n",
              "      <th colspan=\"2\" halign=\"left\">Distance Travelled (Meters)</th>\n",
              "    </tr>\n",
              "    <tr>\n",
              "      <th>Gender</th>\n",
              "      <th>1.0</th>\n",
              "      <th>2.0</th>\n",
              "    </tr>\n",
              "    <tr>\n",
              "      <th>Age</th>\n",
              "      <th></th>\n",
              "      <th></th>\n",
              "    </tr>\n",
              "  </thead>\n",
              "  <tbody>\n",
              "    <tr>\n",
              "      <th>20.0</th>\n",
              "      <td>1683.661357</td>\n",
              "      <td>981.939629</td>\n",
              "    </tr>\n",
              "    <tr>\n",
              "      <th>21.0</th>\n",
              "      <td>1340.775206</td>\n",
              "      <td>1647.733537</td>\n",
              "    </tr>\n",
              "    <tr>\n",
              "      <th>22.0</th>\n",
              "      <td>1457.559662</td>\n",
              "      <td>1842.644881</td>\n",
              "    </tr>\n",
              "    <tr>\n",
              "      <th>23.0</th>\n",
              "      <td>1519.197073</td>\n",
              "      <td>1438.169050</td>\n",
              "    </tr>\n",
              "    <tr>\n",
              "      <th>24.0</th>\n",
              "      <td>1517.081721</td>\n",
              "      <td>1530.559305</td>\n",
              "    </tr>\n",
              "    <tr>\n",
              "      <th>25.0</th>\n",
              "      <td>1488.787006</td>\n",
              "      <td>1606.054543</td>\n",
              "    </tr>\n",
              "    <tr>\n",
              "      <th>26.0</th>\n",
              "      <td>1619.744800</td>\n",
              "      <td>1459.604881</td>\n",
              "    </tr>\n",
              "    <tr>\n",
              "      <th>27.0</th>\n",
              "      <td>1717.076338</td>\n",
              "      <td>1821.481528</td>\n",
              "    </tr>\n",
              "    <tr>\n",
              "      <th>28.0</th>\n",
              "      <td>1655.279425</td>\n",
              "      <td>1785.938661</td>\n",
              "    </tr>\n",
              "    <tr>\n",
              "      <th>29.0</th>\n",
              "      <td>1632.416266</td>\n",
              "      <td>1733.064174</td>\n",
              "    </tr>\n",
              "  </tbody>\n",
              "</table>\n",
              "</div>"
            ],
            "text/plain": [
              "       Distance Travelled (Meters)             \n",
              "Gender                         1.0          2.0\n",
              "Age                                            \n",
              "20.0                   1683.661357   981.939629\n",
              "21.0                   1340.775206  1647.733537\n",
              "22.0                   1457.559662  1842.644881\n",
              "23.0                   1519.197073  1438.169050\n",
              "24.0                   1517.081721  1530.559305\n",
              "25.0                   1488.787006  1606.054543\n",
              "26.0                   1619.744800  1459.604881\n",
              "27.0                   1717.076338  1821.481528\n",
              "28.0                   1655.279425  1785.938661\n",
              "29.0                   1632.416266  1733.064174"
            ]
          },
          "metadata": {
            "tags": []
          },
          "execution_count": 65
        }
      ]
    },
    {
      "cell_type": "markdown",
      "metadata": {
        "id": "BJ8JOeWtfavG",
        "colab_type": "text"
      },
      "source": [
        "The table above shows the ***average distance*** covered by *different ages of riders* and their respective *genders*"
      ]
    },
    {
      "cell_type": "code",
      "metadata": {
        "id": "7_l41gS5edzf",
        "colab_type": "code",
        "colab": {
          "base_uri": "https://localhost:8080/",
          "height": 426
        },
        "outputId": "f06e4d69-4b92-4397-b3ff-8f4b5a7c5f81"
      },
      "source": [
        "#Performance by Speed (Pivot Table)\n",
        "speed_perf_pivot = df_speed_perf.pivot(index = 'Age', columns = 'Gender').fillna(0)\n",
        "speed_perf_pivot.head(10)"
      ],
      "execution_count": null,
      "outputs": [
        {
          "output_type": "execute_result",
          "data": {
            "text/html": [
              "<div>\n",
              "<style scoped>\n",
              "    .dataframe tbody tr th:only-of-type {\n",
              "        vertical-align: middle;\n",
              "    }\n",
              "\n",
              "    .dataframe tbody tr th {\n",
              "        vertical-align: top;\n",
              "    }\n",
              "\n",
              "    .dataframe thead tr th {\n",
              "        text-align: left;\n",
              "    }\n",
              "\n",
              "    .dataframe thead tr:last-of-type th {\n",
              "        text-align: right;\n",
              "    }\n",
              "</style>\n",
              "<table border=\"1\" class=\"dataframe\">\n",
              "  <thead>\n",
              "    <tr>\n",
              "      <th></th>\n",
              "      <th colspan=\"2\" halign=\"left\">Median Speed (m/s)</th>\n",
              "    </tr>\n",
              "    <tr>\n",
              "      <th>Gender</th>\n",
              "      <th>1.0</th>\n",
              "      <th>2.0</th>\n",
              "    </tr>\n",
              "    <tr>\n",
              "      <th>Age</th>\n",
              "      <th></th>\n",
              "      <th></th>\n",
              "    </tr>\n",
              "  </thead>\n",
              "  <tbody>\n",
              "    <tr>\n",
              "      <th>20.0</th>\n",
              "      <td>2.817466</td>\n",
              "      <td>2.568888</td>\n",
              "    </tr>\n",
              "    <tr>\n",
              "      <th>21.0</th>\n",
              "      <td>2.630734</td>\n",
              "      <td>2.426367</td>\n",
              "    </tr>\n",
              "    <tr>\n",
              "      <th>22.0</th>\n",
              "      <td>2.620275</td>\n",
              "      <td>2.361596</td>\n",
              "    </tr>\n",
              "    <tr>\n",
              "      <th>23.0</th>\n",
              "      <td>2.555363</td>\n",
              "      <td>2.295694</td>\n",
              "    </tr>\n",
              "    <tr>\n",
              "      <th>24.0</th>\n",
              "      <td>2.708297</td>\n",
              "      <td>2.518919</td>\n",
              "    </tr>\n",
              "    <tr>\n",
              "      <th>25.0</th>\n",
              "      <td>2.657038</td>\n",
              "      <td>2.412006</td>\n",
              "    </tr>\n",
              "    <tr>\n",
              "      <th>26.0</th>\n",
              "      <td>2.832248</td>\n",
              "      <td>2.602841</td>\n",
              "    </tr>\n",
              "    <tr>\n",
              "      <th>27.0</th>\n",
              "      <td>2.857445</td>\n",
              "      <td>2.593116</td>\n",
              "    </tr>\n",
              "    <tr>\n",
              "      <th>28.0</th>\n",
              "      <td>2.853725</td>\n",
              "      <td>2.612078</td>\n",
              "    </tr>\n",
              "    <tr>\n",
              "      <th>29.0</th>\n",
              "      <td>2.885993</td>\n",
              "      <td>2.596649</td>\n",
              "    </tr>\n",
              "  </tbody>\n",
              "</table>\n",
              "</div>"
            ],
            "text/plain": [
              "       Median Speed (m/s)          \n",
              "Gender                1.0       2.0\n",
              "Age                                \n",
              "20.0             2.817466  2.568888\n",
              "21.0             2.630734  2.426367\n",
              "22.0             2.620275  2.361596\n",
              "23.0             2.555363  2.295694\n",
              "24.0             2.708297  2.518919\n",
              "25.0             2.657038  2.412006\n",
              "26.0             2.832248  2.602841\n",
              "27.0             2.857445  2.593116\n",
              "28.0             2.853725  2.612078\n",
              "29.0             2.885993  2.596649"
            ]
          },
          "metadata": {
            "tags": []
          },
          "execution_count": 66
        }
      ]
    },
    {
      "cell_type": "markdown",
      "metadata": {
        "id": "qE5Ex9ygfijd",
        "colab_type": "text"
      },
      "source": [
        "The table above shows the ***average speeds*** by of riders segregated by their *ages* and *respective genders*"
      ]
    },
    {
      "cell_type": "markdown",
      "metadata": {
        "id": "HfUr9Pjkf1xq",
        "colab_type": "text"
      },
      "source": [
        "#####**Visualization by Graph**"
      ]
    },
    {
      "cell_type": "code",
      "metadata": {
        "id": "NsjWfWU5f55q",
        "colab_type": "code",
        "colab": {
          "base_uri": "https://localhost:8080/",
          "height": 355
        },
        "outputId": "f4bff9a7-9b48-468f-bf73-4f5c78ef0edd"
      },
      "source": [
        "#Rider Performance by Age & Gender as a measure of Distance (Meters)\n",
        "fig3, ax3 = plt.subplots(figsize=(13,5))\n",
        "df_dist_perf.groupby(['Age','Gender']).mean()['Distance Travelled (Meters)'].unstack().plot(ax=ax3, color = \"br\")\n",
        "ax3.legend(['Male','Female'])\n",
        "plt.xlabel('Age', fontsize=14)\n",
        "plt.ylabel('Average Distance Travelled (Meters)', fontsize=14)\n",
        "plt.title('Rider Performance by Gender and Age (Distance in Meters)',\n",
        "          fontsize=14)\n",
        "plt.show()"
      ],
      "execution_count": null,
      "outputs": [
        {
          "output_type": "display_data",
          "data": {
            "image/png": "[encoded data removed]",
            "text/plain": [
              "<Figure size 936x360 with 1 Axes>"
            ]
          },
          "metadata": {
            "tags": [],
            "needs_background": "light"
          }
        }
      ]
    },
    {
      "cell_type": "code",
      "metadata": {
        "id": "95tlc7n8f53e",
        "colab_type": "code",
        "colab": {
          "base_uri": "https://localhost:8080/",
          "height": 355
        },
        "outputId": "b3d3d56d-f6dd-4626-e822-b40812cade53"
      },
      "source": [
        "#Rider Performance by Age & Gender as a measure of Median Speed (m/s)\n",
        "fig4, ax4 = plt.subplots(figsize=(13,5))\n",
        "df_speed_perf.groupby(['Age','Gender']).mean()['Median Speed (m/s)'].unstack().plot(ax=ax4, color = \"br\")\n",
        "ax4.legend(['Male','Female'])\n",
        "plt.xlabel('Age', fontsize=14)\n",
        "plt.ylabel('Median Speed (m/s)', fontsize=14)\n",
        "plt.title('Rider Performance by Gender and Age (Speeds in m/s)',\n",
        "          fontsize=14)\n",
        "plt.show()"
      ],
      "execution_count": null,
      "outputs": [
        {
          "output_type": "display_data",
          "data": {
            "image/png": "[encoded data removed]",
            "text/plain": [
              "<Figure size 936x360 with 1 Axes>"
            ]
          },
          "metadata": {
            "tags": [],
            "needs_background": "light"
          }
        }
      ]
    },
    {
      "cell_type": "markdown",
      "metadata": {
        "id": "QnjsusflOHRW",
        "colab_type": "text"
      },
      "source": [
        "##**Q5) Busiest Bike in NYC in 2017**\n",
        "\n",
        "*How many times was it used? How many minutes was it used for?*"
      ]
    },
    {
      "cell_type": "code",
      "metadata": {
        "id": "0rjO4vX5rrja",
        "colab_type": "code",
        "colab": {
          "base_uri": "https://localhost:8080/",
          "height": 363
        },
        "outputId": "8b908cbe-7c7c-433a-9cd5-08e355a525cd"
      },
      "source": [
        "#Numeric Bike ID values need to be converted to String data type\n",
        "df['Bike ID'] = df['Bike ID'].astype(str)\n",
        "\n",
        "#Number of times the busiest bike was used\n",
        "df_bike_use = pd.DataFrame()\n",
        "df_bike_use = df.groupby(['Bike ID']).size().reset_index(name = 'Number of Times Used')\n",
        "df_bike_use = df_bike_use.sort_values('Number of Times Used', ascending = False)\n",
        "df_bike_use = df_bike_use[:10]\n",
        "df_bike_use['Bike ID'] = df_bike_use['Bike ID'].astype(str)\n",
        "df_bike_use['Bike ID'] = ('Bike ID ' + df_bike_use['Bike ID'])\n",
        "\n",
        "df_bike_use.head(10)"
      ],
      "execution_count": null,
      "outputs": [
        {
          "output_type": "execute_result",
          "data": {
            "text/html": [
              "<div>\n",
              "<style scoped>\n",
              "    .dataframe tbody tr th:only-of-type {\n",
              "        vertical-align: middle;\n",
              "    }\n",
              "\n",
              "    .dataframe tbody tr th {\n",
              "        vertical-align: top;\n",
              "    }\n",
              "\n",
              "    .dataframe thead th {\n",
              "        text-align: right;\n",
              "    }\n",
              "</style>\n",
              "<table border=\"1\" class=\"dataframe\">\n",
              "  <thead>\n",
              "    <tr style=\"text-align: right;\">\n",
              "      <th></th>\n",
              "      <th>Bike ID</th>\n",
              "      <th>Number of Times Used</th>\n",
              "    </tr>\n",
              "  </thead>\n",
              "  <tbody>\n",
              "    <tr>\n",
              "      <th>7141</th>\n",
              "      <td>Bike ID 26386.0</td>\n",
              "      <td>176</td>\n",
              "    </tr>\n",
              "    <tr>\n",
              "      <th>6385</th>\n",
              "      <td>Bike ID 25408.0</td>\n",
              "      <td>174</td>\n",
              "    </tr>\n",
              "    <tr>\n",
              "      <th>7777</th>\n",
              "      <td>Bike ID 27060.0</td>\n",
              "      <td>171</td>\n",
              "    </tr>\n",
              "    <tr>\n",
              "      <th>7984</th>\n",
              "      <td>Bike ID 27277.0</td>\n",
              "      <td>169</td>\n",
              "    </tr>\n",
              "    <tr>\n",
              "      <th>7319</th>\n",
              "      <td>Bike ID 26573.0</td>\n",
              "      <td>168</td>\n",
              "    </tr>\n",
              "    <tr>\n",
              "      <th>7897</th>\n",
              "      <td>Bike ID 27185.0</td>\n",
              "      <td>165</td>\n",
              "    </tr>\n",
              "    <tr>\n",
              "      <th>6801</th>\n",
              "      <td>Bike ID 25857.0</td>\n",
              "      <td>165</td>\n",
              "    </tr>\n",
              "    <tr>\n",
              "      <th>6518</th>\n",
              "      <td>Bike ID 25556.0</td>\n",
              "      <td>160</td>\n",
              "    </tr>\n",
              "    <tr>\n",
              "      <th>7995</th>\n",
              "      <td>Bike ID 27288.0</td>\n",
              "      <td>159</td>\n",
              "    </tr>\n",
              "    <tr>\n",
              "      <th>6280</th>\n",
              "      <td>Bike ID 25293.0</td>\n",
              "      <td>159</td>\n",
              "    </tr>\n",
              "  </tbody>\n",
              "</table>\n",
              "</div>"
            ],
            "text/plain": [
              "              Bike ID  Number of Times Used\n",
              "7141  Bike ID 26386.0                   176\n",
              "6385  Bike ID 25408.0                   174\n",
              "7777  Bike ID 27060.0                   171\n",
              "7984  Bike ID 27277.0                   169\n",
              "7319  Bike ID 26573.0                   168\n",
              "7897  Bike ID 27185.0                   165\n",
              "6801  Bike ID 25857.0                   165\n",
              "6518  Bike ID 25556.0                   160\n",
              "7995  Bike ID 27288.0                   159\n",
              "6280  Bike ID 25293.0                   159"
            ]
          },
          "metadata": {
            "tags": []
          },
          "execution_count": 69
        }
      ]
    },
    {
      "cell_type": "markdown",
      "metadata": {
        "id": "x89yWVKUIUvU",
        "colab_type": "text"
      },
      "source": [
        "####**Visualizing Busiest Bikes By Usage**"
      ]
    },
    {
      "cell_type": "code",
      "metadata": {
        "id": "1nA_7YWSITSY",
        "colab_type": "code",
        "colab": {
          "base_uri": "https://localhost:8080/",
          "height": 300
        },
        "outputId": "e5351ee7-c9df-45a6-e342-fa949f7d6329"
      },
      "source": [
        "#Visualizing\n",
        "ax4 = sns.barplot('Number of Times Used', 'Bike ID',data = df_bike_use, palette=\"rocket\")\n",
        "ax4.set_title('Most Popular Bikes by Number of Times Used', fontsize=14)\n",
        "ax4.set_xlabel(\"Number of Times Used\", fontsize=14)\n",
        "ax4.set_ylabel(\"Bike ID\", fontsize=14)\n",
        "#for index, row in df_bike_use.iterrows():\n",
        "    #ax4.text(row['Number of Times Used']-80,\n",
        "             #index,(str(row['Number of Times Used'])+\" times\"), \n",
        "             #color='white', ha=\"center\", fontsize =10)\n",
        "plt.show()"
      ],
      "execution_count": null,
      "outputs": [
        {
          "output_type": "display_data",
          "data": {
            "image/png": "[encoded data removed]",
            "text/plain": [
              "<Figure size 432x288 with 1 Axes>"
            ]
          },
          "metadata": {
            "tags": [],
            "needs_background": "light"
          }
        }
      ]
    },
    {
      "cell_type": "code",
      "metadata": {
        "id": "ca4pzwat6IHV",
        "colab_type": "code",
        "colab": {
          "base_uri": "https://localhost:8080/",
          "height": 345
        },
        "outputId": "e846efaf-75dd-4cd3-cbe8-198309644009"
      },
      "source": [
        "#Finding the most frequently occurring Bike ID in the dataset\n",
        "busiest_bike = df_bike_use['Bike ID'].loc[df_bike_use['Number of Times Used'] == df_bike_use['Number of Times Used'].max()].to_frame()\n",
        "print(\"The busiest bike is: \\n\", busiest_bike, '\\n')\n",
        "\n",
        "#Number of times the busiest bike was used\n",
        "df.groupby(['Bike ID']).size().reset_index(name = 'Number of Times Used')\n",
        "print(\"Number of times the busiest bike was used:\", \n",
        "      df_bike_use['Number of Times Used'].max(), \"times\")\n",
        "\n",
        "#Duration of travel by the most frequently use bike\n",
        "bike_min_df = pd.DataFrame()\n",
        "bike_min_df['Minutes Used'] = (df.groupby('Bike ID')['Trip Duration'].sum())/60\n",
        "bike_min_df = bike_min_df.reset_index()\n",
        "bike_min_df = bike_min_df.sort_values('Minutes Used', ascending = False)\n",
        "bike_min_df['Bike ID'] = bike_min_df['Bike ID'].astype(str)\n",
        "bike_min_df['Bike ID'] = ('Bike ' + bike_min_df['Bike ID'])\n",
        "bike_min_df = bike_min_df[:10]\n",
        "print(\"\\n\")\n",
        "print(\"Time travelled by the Bike in Minutes:\")\n",
        "bike_min_df.head()"
      ],
      "execution_count": null,
      "outputs": [
        {
          "output_type": "stream",
          "text": [
            "The busiest bike is: \n",
            "               Bike ID\n",
            "7141  Bike ID 26386.0 \n",
            "\n",
            "Number of times the busiest bike was used: 176 times\n",
            "\n",
            "\n",
            "Time travelled by the Bike in Minutes:\n"
          ],
          "name": "stdout"
        },
        {
          "output_type": "execute_result",
          "data": {
            "text/html": [
              "<div>\n",
              "<style scoped>\n",
              "    .dataframe tbody tr th:only-of-type {\n",
              "        vertical-align: middle;\n",
              "    }\n",
              "\n",
              "    .dataframe tbody tr th {\n",
              "        vertical-align: top;\n",
              "    }\n",
              "\n",
              "    .dataframe thead th {\n",
              "        text-align: right;\n",
              "    }\n",
              "</style>\n",
              "<table border=\"1\" class=\"dataframe\">\n",
              "  <thead>\n",
              "    <tr style=\"text-align: right;\">\n",
              "      <th></th>\n",
              "      <th>Bike ID</th>\n",
              "      <th>Minutes Used</th>\n",
              "    </tr>\n",
              "  </thead>\n",
              "  <tbody>\n",
              "    <tr>\n",
              "      <th>7141</th>\n",
              "      <td>Bike 26386.0</td>\n",
              "      <td>1989.300000</td>\n",
              "    </tr>\n",
              "    <tr>\n",
              "      <th>6952</th>\n",
              "      <td>Bike 26022.0</td>\n",
              "      <td>1914.200000</td>\n",
              "    </tr>\n",
              "    <tr>\n",
              "      <th>6280</th>\n",
              "      <td>Bike 25293.0</td>\n",
              "      <td>1896.050000</td>\n",
              "    </tr>\n",
              "    <tr>\n",
              "      <th>6385</th>\n",
              "      <td>Bike 25408.0</td>\n",
              "      <td>1845.266667</td>\n",
              "    </tr>\n",
              "    <tr>\n",
              "      <th>6801</th>\n",
              "      <td>Bike 25857.0</td>\n",
              "      <td>1837.750000</td>\n",
              "    </tr>\n",
              "  </tbody>\n",
              "</table>\n",
              "</div>"
            ],
            "text/plain": [
              "           Bike ID  Minutes Used\n",
              "7141  Bike 26386.0   1989.300000\n",
              "6952  Bike 26022.0   1914.200000\n",
              "6280  Bike 25293.0   1896.050000\n",
              "6385  Bike 25408.0   1845.266667\n",
              "6801  Bike 25857.0   1837.750000"
            ]
          },
          "metadata": {
            "tags": []
          },
          "execution_count": 71
        }
      ]
    },
    {
      "cell_type": "markdown",
      "metadata": {
        "id": "lMtuwkBlE2R_",
        "colab_type": "text"
      },
      "source": [
        "####**Visualizing Busiest Bikes By Minutes**"
      ]
    },
    {
      "cell_type": "code",
      "metadata": {
        "id": "V55rEbuMvGlz",
        "colab_type": "code",
        "colab": {
          "base_uri": "https://localhost:8080/",
          "height": 300
        },
        "outputId": "46a4787e-c9e2-4524-833b-95b09e4eb2d4"
      },
      "source": [
        "#Visualizing\n",
        "ax5 = sns.barplot('Minutes Used', 'Bike ID',data = bike_min_df, palette=\"rocket\")\n",
        "ax5.set_title('Most Popular Bikes by Minutes Used', fontsize=14)\n",
        "ax5.set_xlabel('Minutes Used', fontsize=14)\n",
        "ax5.set_ylabel('Bike ID', fontsize=14)\n",
        "#for index, row in bike_min_df.iterrows():\n",
        "    #ax5.text(row['Minutes Used']-110,\n",
        "             #index,(str(round(row['Minutes Used'],2))+\" times\"), \n",
        "             #color='white', ha=\"center\", fontsize=14)\n",
        "plt.show()"
      ],
      "execution_count": null,
      "outputs": [
        {
          "output_type": "display_data",
          "data": {
            "image/png": "[encoded data removed]",
            "text/plain": [
              "<Figure size 432x288 with 1 Axes>"
            ]
          },
          "metadata": {
            "tags": [],
            "needs_background": "light"
          }
        }
      ]
    },
    {
      "cell_type": "markdown",
      "metadata": {
        "id": "D_HPy-cj2lLW",
        "colab_type": "text"
      },
      "source": [
        "*Busiest Bike ID:* **26386**\n",
        "\n",
        "*No. of times used:* **254**\n",
        "\n",
        "*Time in Minutes:* **2805.8**"
      ]
    },
    {
      "cell_type": "markdown",
      "metadata": {
        "id": "VeALks1j0NSH",
        "colab_type": "text"
      },
      "source": [
        "##**Pre-processed Data for Modelling**"
      ]
    },
    {
      "cell_type": "code",
      "metadata": {
        "id": "9OffdkCx0fZp",
        "colab_type": "code",
        "colab": {
          "base_uri": "https://localhost:8080/",
          "height": 469
        },
        "outputId": "57f37a5c-7b6d-4d25-ab2b-d51064a7a049"
      },
      "source": [
        "df.head()"
      ],
      "execution_count": null,
      "outputs": [
        {
          "output_type": "execute_result",
          "data": {
            "text/html": [
              "<div>\n",
              "<style scoped>\n",
              "    .dataframe tbody tr th:only-of-type {\n",
              "        vertical-align: middle;\n",
              "    }\n",
              "\n",
              "    .dataframe tbody tr th {\n",
              "        vertical-align: top;\n",
              "    }\n",
              "\n",
              "    .dataframe thead th {\n",
              "        text-align: right;\n",
              "    }\n",
              "</style>\n",
              "<table border=\"1\" class=\"dataframe\">\n",
              "  <thead>\n",
              "    <tr style=\"text-align: right;\">\n",
              "      <th></th>\n",
              "      <th>Trip Duration</th>\n",
              "      <th>Start Time</th>\n",
              "      <th>Stop Time</th>\n",
              "      <th>Start Station ID</th>\n",
              "      <th>Start Station Name</th>\n",
              "      <th>Start Station Latitude</th>\n",
              "      <th>Start Station Longitude</th>\n",
              "      <th>End Station ID</th>\n",
              "      <th>End Station Name</th>\n",
              "      <th>End Station Latitude</th>\n",
              "      <th>End Station Longitude</th>\n",
              "      <th>Bike ID</th>\n",
              "      <th>User Type</th>\n",
              "      <th>Birth Year</th>\n",
              "      <th>Gender</th>\n",
              "      <th>Count</th>\n",
              "      <th>Distance Travelled (Meters)</th>\n",
              "      <th>Median Speed (m/s)</th>\n",
              "      <th>Age</th>\n",
              "    </tr>\n",
              "  </thead>\n",
              "  <tbody>\n",
              "    <tr>\n",
              "      <th>0</th>\n",
              "      <td>680</td>\n",
              "      <td>2017-01-01 00:00:21</td>\n",
              "      <td>2017-01-01 00:11:41</td>\n",
              "      <td>3226.0</td>\n",
              "      <td>W 82 St &amp; Central Park West</td>\n",
              "      <td>40.782750</td>\n",
              "      <td>-73.971370</td>\n",
              "      <td>3165.0</td>\n",
              "      <td>Central Park West &amp; W 72 St</td>\n",
              "      <td>40.775794</td>\n",
              "      <td>-73.976206</td>\n",
              "      <td>25542.0</td>\n",
              "      <td>Subscriber</td>\n",
              "      <td>1965.0</td>\n",
              "      <td>2.0</td>\n",
              "      <td>3</td>\n",
              "      <td>874.394902</td>\n",
              "      <td>1.285875</td>\n",
              "      <td>55.0</td>\n",
              "    </tr>\n",
              "    <tr>\n",
              "      <th>1</th>\n",
              "      <td>1282</td>\n",
              "      <td>2017-01-01 00:00:45</td>\n",
              "      <td>2017-01-01 00:22:08</td>\n",
              "      <td>3263.0</td>\n",
              "      <td>Cooper Square &amp; E 7 St</td>\n",
              "      <td>40.729236</td>\n",
              "      <td>-73.990868</td>\n",
              "      <td>498.0</td>\n",
              "      <td>Broadway &amp; W 32 St</td>\n",
              "      <td>40.748549</td>\n",
              "      <td>-73.988084</td>\n",
              "      <td>21136.0</td>\n",
              "      <td>Subscriber</td>\n",
              "      <td>1987.0</td>\n",
              "      <td>2.0</td>\n",
              "      <td>2</td>\n",
              "      <td>2160.858819</td>\n",
              "      <td>1.685537</td>\n",
              "      <td>33.0</td>\n",
              "    </tr>\n",
              "    <tr>\n",
              "      <th>6</th>\n",
              "      <td>559</td>\n",
              "      <td>2017-01-01 00:05:00</td>\n",
              "      <td>2017-01-01 00:14:20</td>\n",
              "      <td>499.0</td>\n",
              "      <td>Broadway &amp; W 60 St</td>\n",
              "      <td>40.769155</td>\n",
              "      <td>-73.981918</td>\n",
              "      <td>479.0</td>\n",
              "      <td>9 Ave &amp; W 45 St</td>\n",
              "      <td>40.760193</td>\n",
              "      <td>-73.991255</td>\n",
              "      <td>27294.0</td>\n",
              "      <td>Subscriber</td>\n",
              "      <td>1973.0</td>\n",
              "      <td>1.0</td>\n",
              "      <td>26</td>\n",
              "      <td>1269.844833</td>\n",
              "      <td>2.271637</td>\n",
              "      <td>47.0</td>\n",
              "    </tr>\n",
              "    <tr>\n",
              "      <th>7</th>\n",
              "      <td>826</td>\n",
              "      <td>2017-01-01 00:05:37</td>\n",
              "      <td>2017-01-01 00:19:24</td>\n",
              "      <td>362.0</td>\n",
              "      <td>Broadway &amp; W 37 St</td>\n",
              "      <td>40.751726</td>\n",
              "      <td>-73.987535</td>\n",
              "      <td>445.0</td>\n",
              "      <td>E 10 St &amp; Avenue A</td>\n",
              "      <td>40.727408</td>\n",
              "      <td>-73.981420</td>\n",
              "      <td>23288.0</td>\n",
              "      <td>Subscriber</td>\n",
              "      <td>1977.0</td>\n",
              "      <td>2.0</td>\n",
              "      <td>2</td>\n",
              "      <td>2753.588103</td>\n",
              "      <td>3.333642</td>\n",
              "      <td>43.0</td>\n",
              "    </tr>\n",
              "    <tr>\n",
              "      <th>8</th>\n",
              "      <td>255</td>\n",
              "      <td>2017-01-01 00:05:47</td>\n",
              "      <td>2017-01-01 00:10:02</td>\n",
              "      <td>430.0</td>\n",
              "      <td>York St &amp; Jay St</td>\n",
              "      <td>40.701485</td>\n",
              "      <td>-73.986569</td>\n",
              "      <td>242.0</td>\n",
              "      <td>Carlton Ave &amp; Flushing Ave</td>\n",
              "      <td>40.697787</td>\n",
              "      <td>-73.973736</td>\n",
              "      <td>25041.0</td>\n",
              "      <td>Subscriber</td>\n",
              "      <td>1989.0</td>\n",
              "      <td>1.0</td>\n",
              "      <td>81</td>\n",
              "      <td>1157.737648</td>\n",
              "      <td>4.540148</td>\n",
              "      <td>31.0</td>\n",
              "    </tr>\n",
              "  </tbody>\n",
              "</table>\n",
              "</div>"
            ],
            "text/plain": [
              "   Trip Duration           Start Time  ... Median Speed (m/s)   Age\n",
              "0            680  2017-01-01 00:00:21  ...           1.285875  55.0\n",
              "1           1282  2017-01-01 00:00:45  ...           1.685537  33.0\n",
              "6            559  2017-01-01 00:05:00  ...           2.271637  47.0\n",
              "7            826  2017-01-01 00:05:37  ...           3.333642  43.0\n",
              "8            255  2017-01-01 00:05:47  ...           4.540148  31.0\n",
              "\n",
              "[5 rows x 19 columns]"
            ]
          },
          "metadata": {
            "tags": []
          },
          "execution_count": 73
        }
      ]
    },
    {
      "cell_type": "code",
      "metadata": {
        "id": "367J8x9O26XB",
        "colab_type": "code",
        "colab": {
          "base_uri": "https://localhost:8080/",
          "height": 34
        },
        "outputId": "372f24f3-4100-4746-9b62-91ce8955275b"
      },
      "source": [
        "df.shape"
      ],
      "execution_count": null,
      "outputs": [
        {
          "output_type": "execute_result",
          "data": {
            "text/plain": [
              "(412211, 19)"
            ]
          },
          "metadata": {
            "tags": []
          },
          "execution_count": 74
        }
      ]
    },
    {
      "cell_type": "code",
      "metadata": {
        "id": "rxF_BPUV28eK",
        "colab_type": "code",
        "colab": {
          "base_uri": "https://localhost:8080/",
          "height": 139
        },
        "outputId": "cb0bc134-1807-4f3d-d449-cbca2d331086"
      },
      "source": [
        "df.columns"
      ],
      "execution_count": null,
      "outputs": [
        {
          "output_type": "execute_result",
          "data": {
            "text/plain": [
              "Index(['Trip Duration', 'Start Time', 'Stop Time', 'Start Station ID',\n",
              "       'Start Station Name', 'Start Station Latitude',\n",
              "       'Start Station Longitude', 'End Station ID', 'End Station Name',\n",
              "       'End Station Latitude', 'End Station Longitude', 'Bike ID', 'User Type',\n",
              "       'Birth Year', 'Gender', 'Count', 'Distance Travelled (Meters)',\n",
              "       'Median Speed (m/s)', 'Age'],\n",
              "      dtype='object')"
            ]
          },
          "metadata": {
            "tags": []
          },
          "execution_count": 75
        }
      ]
    },
    {
      "cell_type": "code",
      "metadata": {
        "id": "YljRY4EEwEge",
        "colab_type": "code",
        "colab": {}
      },
      "source": [
        "df.to_csv('Preprocessed_CitiBike_2017.csv')  "
      ],
      "execution_count": null,
      "outputs": []
    },
    {
      "cell_type": "markdown",
      "metadata": {
        "id": "7XSRbWYeH2Mb",
        "colab_type": "text"
      },
      "source": [
        "##**Predictive Modelling**"
      ]
    },
    {
      "cell_type": "markdown",
      "metadata": {
        "id": "Gyfd7A7k3wWL",
        "colab_type": "text"
      },
      "source": [
        "#####**EDA for Modelling**"
      ]
    },
    {
      "cell_type": "code",
      "metadata": {
        "id": "KdVJt0vc30od",
        "colab_type": "code",
        "colab": {}
      },
      "source": [
        ""
      ],
      "execution_count": null,
      "outputs": []
    },
    {
      "cell_type": "code",
      "metadata": {
        "id": "wbcSQ11P30u8",
        "colab_type": "code",
        "colab": {}
      },
      "source": [
        ""
      ],
      "execution_count": null,
      "outputs": []
    },
    {
      "cell_type": "markdown",
      "metadata": {
        "id": "yEjUIqSqx4FB",
        "colab_type": "text"
      },
      "source": [
        "#####**Baseline Model - I (Dummy Predictor)**"
      ]
    },
    {
      "cell_type": "code",
      "metadata": {
        "id": "iX7t_TQJIJAU",
        "colab_type": "code",
        "colab": {}
      },
      "source": [
        ""
      ],
      "execution_count": null,
      "outputs": []
    },
    {
      "cell_type": "code",
      "metadata": {
        "id": "tE8zNVi3IJIH",
        "colab_type": "code",
        "colab": {}
      },
      "source": [
        ""
      ],
      "execution_count": null,
      "outputs": []
    },
    {
      "cell_type": "code",
      "metadata": {
        "id": "Bvbeu0vEIJFl",
        "colab_type": "code",
        "colab": {}
      },
      "source": [
        ""
      ],
      "execution_count": null,
      "outputs": []
    }
  ]
}